{
 "cells": [
  {
   "cell_type": "markdown",
   "id": "513ff641-305d-414b-a217-464b5ec1fed0",
   "metadata": {},
   "source": [
    "**Libraries**"
   ]
  },
  {
   "cell_type": "code",
   "execution_count": 1,
   "id": "e780cbe3-19cb-461a-9fa3-badc1b423f6a",
   "metadata": {},
   "outputs": [],
   "source": [
    "import sqlite3\n",
    "import pandas as pd\n",
    "import numpy as np\n",
    "\n",
    "import logging\n",
    "\n",
    "import arviz as az\n",
    "import matplotlib.pyplot as plt\n",
    "import seaborn as sns\n"
   ]
  },
  {
   "cell_type": "markdown",
   "id": "b785ca40-076d-4e6a-b68f-673b9a7899b5",
   "metadata": {},
   "source": [
    "<br>\n",
    "\n",
    "**Settings**"
   ]
  },
  {
   "cell_type": "code",
   "execution_count": 2,
   "id": "633b1d62-2903-4396-b1cb-1cfd66af5776",
   "metadata": {},
   "outputs": [],
   "source": [
    "sns.set(font_scale=1)\n",
    "az.style.use('arviz-darkgrid')"
   ]
  },
  {
   "cell_type": "markdown",
   "id": "2333e3d5-af88-40bc-bd6a-ff262e3e2531",
   "metadata": {},
   "source": [
    "<br>\n",
    "\n",
    "**Logging**"
   ]
  },
  {
   "cell_type": "code",
   "execution_count": 3,
   "id": "1f391eab-6405-474a-8b83-f8841f7114ac",
   "metadata": {},
   "outputs": [],
   "source": [
    "# Logging\n",
    "logging.basicConfig(level=logging.INFO,\n",
    "                    format='\\n%(message)s\\n%(asctime)s.%(msecs)03d\\n',\n",
    "                    datefmt='%Y-%m-%d %H:%M:%S')\n",
    "logger = logging.getLogger(__name__)"
   ]
  },
  {
   "cell_type": "markdown",
   "id": "e2ef68b9-bfce-4369-b066-43830a0e1e70",
   "metadata": {},
   "source": [
    "<br>\n",
    "<br>\n",
    "\n",
    "## Reading the Data"
   ]
  },
  {
   "cell_type": "markdown",
   "id": "ad331bc2-f3fe-41c3-a063-11b5a15dd3e6",
   "metadata": {},
   "source": [
    "\n",
    "### Database connection instance"
   ]
  },
  {
   "cell_type": "code",
   "execution_count": 4,
   "id": "97f9cbb2-d28e-482c-b78c-db75bc77c938",
   "metadata": {},
   "outputs": [],
   "source": [
    "class SQLITE:\n",
    "\n",
    "    def __init__(self, databaseuri: str):\n",
    "        \"\"\"\n",
    "        \n",
    "        :param databaseuri: The URI of a database file\n",
    "        \"\"\"\n",
    "        \n",
    "        self.databaseuri = databaseuri\n",
    "\n",
    "    def connecting(self):\n",
    "        \"\"\"\n",
    "        \n",
    "        :return: database connection instance\n",
    "        \"\"\"\n",
    "\n",
    "        connection = None\n",
    "\n",
    "        try:\n",
    "            connection = sqlite3.connect(self.databaseuri)\n",
    "        except ConnectionError as err:\n",
    "            raise Exception(err.strerror) in err\n",
    "\n",
    "        return connection"
   ]
  },
  {
   "cell_type": "code",
   "execution_count": 5,
   "id": "514eb23a-b0e4-4c4f-90c1-61f04e0e34c6",
   "metadata": {},
   "outputs": [],
   "source": [
    "sqlite = SQLITE(databaseuri='../data/gpinhours.sqlite')"
   ]
  },
  {
   "cell_type": "markdown",
   "id": "197d84b6-eaa0-4ac1-b46f-c13997f397f0",
   "metadata": {},
   "source": [
    "<br>\n",
    "<br>\n",
    "\n",
    "### Data reading"
   ]
  },
  {
   "cell_type": "code",
   "execution_count": 6,
   "id": "4c4406cf-adc4-43be-ba2b-f222d946702b",
   "metadata": {},
   "outputs": [],
   "source": [
    "connection = sqlite.connecting()\n",
    "query = 'SELECT * FROM inhours'\n",
    "inhours = pd.read_sql_query(query, connection)\n",
    "connection.close()"
   ]
  },
  {
   "cell_type": "code",
   "execution_count": 7,
   "id": "a198d150-9742-4d42-9bf6-5512661b70de",
   "metadata": {},
   "outputs": [
    {
     "name": "stdout",
     "output_type": "stream",
     "text": [
      "<class 'pandas.core.frame.DataFrame'>\n",
      "RangeIndex: 47084 entries, 0 to 47083\n",
      "Data columns (total 9 columns):\n",
      " #   Column      Non-Null Count  Dtype  \n",
      "---  ------      --------------  -----  \n",
      " 0   CODE        47084 non-null  object \n",
      " 1   NAME        47084 non-null  object \n",
      " 2   TOTAL_POP   46862 non-null  object \n",
      " 3   Flu_OBS     46669 non-null  float64\n",
      " 4   Vom_OBS     46672 non-null  float64\n",
      " 5   Diarr_OBS   46672 non-null  float64\n",
      " 6   Gastro_OBS  46757 non-null  float64\n",
      " 7   lastdate    47084 non-null  float64\n",
      " 8   week        47084 non-null  float64\n",
      "dtypes: float64(6), object(3)\n",
      "memory usage: 3.2+ MB\n"
     ]
    }
   ],
   "source": [
    "inhours.info()"
   ]
  },
  {
   "cell_type": "markdown",
   "id": "5f25ffaf-a1e8-448c-8b8d-39961f22ba6f",
   "metadata": {},
   "source": [
    "<br>\n",
    "<br>\n",
    "\n",
    "## Data Cleaning"
   ]
  },
  {
   "cell_type": "code",
   "execution_count": 8,
   "id": "f2573351-386c-42f9-92a6-bfeb49886cac",
   "metadata": {},
   "outputs": [
    {
     "data": {
      "text/html": [
       "<div>\n",
       "<style scoped>\n",
       "    .dataframe tbody tr th:only-of-type {\n",
       "        vertical-align: middle;\n",
       "    }\n",
       "\n",
       "    .dataframe tbody tr th {\n",
       "        vertical-align: top;\n",
       "    }\n",
       "\n",
       "    .dataframe thead th {\n",
       "        text-align: right;\n",
       "    }\n",
       "</style>\n",
       "<table border=\"1\" class=\"dataframe\">\n",
       "  <thead>\n",
       "    <tr style=\"text-align: right;\">\n",
       "      <th></th>\n",
       "      <th>CODE</th>\n",
       "      <th>NAME</th>\n",
       "      <th>TOTAL_POP</th>\n",
       "      <th>Flu_OBS</th>\n",
       "      <th>Vom_OBS</th>\n",
       "      <th>Diarr_OBS</th>\n",
       "      <th>Gastro_OBS</th>\n",
       "      <th>lastdate</th>\n",
       "      <th>week</th>\n",
       "    </tr>\n",
       "  </thead>\n",
       "  <tbody>\n",
       "    <tr>\n",
       "      <th>0</th>\n",
       "      <td>E09000002</td>\n",
       "      <td>Barking and Dagenham</td>\n",
       "      <td>63009</td>\n",
       "      <td>1.0</td>\n",
       "      <td>13.0</td>\n",
       "      <td>9.0</td>\n",
       "      <td>33.0</td>\n",
       "      <td>17741.0</td>\n",
       "      <td>30.0</td>\n",
       "    </tr>\n",
       "    <tr>\n",
       "      <th>1</th>\n",
       "      <td>E09000003</td>\n",
       "      <td>Barnet</td>\n",
       "      <td>225813</td>\n",
       "      <td>1.0</td>\n",
       "      <td>40.0</td>\n",
       "      <td>101.0</td>\n",
       "      <td>148.0</td>\n",
       "      <td>17741.0</td>\n",
       "      <td>30.0</td>\n",
       "    </tr>\n",
       "    <tr>\n",
       "      <th>2</th>\n",
       "      <td>E09000004</td>\n",
       "      <td>Bexley</td>\n",
       "      <td>46339</td>\n",
       "      <td>1.0</td>\n",
       "      <td>11.0</td>\n",
       "      <td>12.0</td>\n",
       "      <td>24.0</td>\n",
       "      <td>17741.0</td>\n",
       "      <td>30.0</td>\n",
       "    </tr>\n",
       "    <tr>\n",
       "      <th>3</th>\n",
       "      <td>E09000005</td>\n",
       "      <td>Brent</td>\n",
       "      <td>178399</td>\n",
       "      <td>1.0</td>\n",
       "      <td>43.0</td>\n",
       "      <td>57.0</td>\n",
       "      <td>97.0</td>\n",
       "      <td>17741.0</td>\n",
       "      <td>30.0</td>\n",
       "    </tr>\n",
       "    <tr>\n",
       "      <th>4</th>\n",
       "      <td>E09000006</td>\n",
       "      <td>Bromley</td>\n",
       "      <td>168381</td>\n",
       "      <td>0.0</td>\n",
       "      <td>19.0</td>\n",
       "      <td>43.0</td>\n",
       "      <td>79.0</td>\n",
       "      <td>17741.0</td>\n",
       "      <td>30.0</td>\n",
       "    </tr>\n",
       "  </tbody>\n",
       "</table>\n",
       "</div>"
      ],
      "text/plain": [
       "        CODE                  NAME TOTAL_POP  Flu_OBS  Vom_OBS  Diarr_OBS  \\\n",
       "0  E09000002  Barking and Dagenham     63009      1.0     13.0        9.0   \n",
       "1  E09000003                Barnet    225813      1.0     40.0      101.0   \n",
       "2  E09000004                Bexley     46339      1.0     11.0       12.0   \n",
       "3  E09000005                 Brent    178399      1.0     43.0       57.0   \n",
       "4  E09000006               Bromley    168381      0.0     19.0       43.0   \n",
       "\n",
       "   Gastro_OBS  lastdate  week  \n",
       "0        33.0   17741.0  30.0  \n",
       "1       148.0   17741.0  30.0  \n",
       "2        24.0   17741.0  30.0  \n",
       "3        97.0   17741.0  30.0  \n",
       "4        79.0   17741.0  30.0  "
      ]
     },
     "execution_count": 8,
     "metadata": {},
     "output_type": "execute_result"
    }
   ],
   "source": [
    "inhours.head()"
   ]
  },
  {
   "cell_type": "markdown",
   "id": "ea57bb4e-bf3b-4774-95f5-b43503890825",
   "metadata": {},
   "source": [
    "<br>\n",
    "<br>\n",
    "\n",
    "### Fix the population count"
   ]
  },
  {
   "cell_type": "markdown",
   "id": "fe44dd95-9a5c-439a-95dc-eca1ae613b69",
   "metadata": {},
   "source": [
    "<br>\n",
    "\n",
    "**Create function**"
   ]
  },
  {
   "cell_type": "code",
   "execution_count": 9,
   "id": "fe456fdd-9538-4459-ac72-36bd8a6f7464",
   "metadata": {},
   "outputs": [],
   "source": [
    "def as_number_or_nan(x):\n",
    "    return pd.to_numeric(x, errors='coerce')\n",
    "    "
   ]
  },
  {
   "cell_type": "code",
   "execution_count": 10,
   "id": "074bf882-edfb-499e-bdef-f61633d9b4ef",
   "metadata": {},
   "outputs": [],
   "source": [
    "inhours.loc[:, 'POP'] = as_number_or_nan(x = inhours.TOTAL_POP)"
   ]
  },
  {
   "cell_type": "code",
   "execution_count": 11,
   "id": "af1f229b-b6d0-4647-9662-9e856fd3d6e7",
   "metadata": {},
   "outputs": [
    {
     "data": {
      "text/html": [
       "<div>\n",
       "<style scoped>\n",
       "    .dataframe tbody tr th:only-of-type {\n",
       "        vertical-align: middle;\n",
       "    }\n",
       "\n",
       "    .dataframe tbody tr th {\n",
       "        vertical-align: top;\n",
       "    }\n",
       "\n",
       "    .dataframe thead th {\n",
       "        text-align: right;\n",
       "    }\n",
       "</style>\n",
       "<table border=\"1\" class=\"dataframe\">\n",
       "  <thead>\n",
       "    <tr style=\"text-align: right;\">\n",
       "      <th></th>\n",
       "      <th>CODE</th>\n",
       "      <th>NAME</th>\n",
       "      <th>TOTAL_POP</th>\n",
       "      <th>Flu_OBS</th>\n",
       "      <th>Vom_OBS</th>\n",
       "      <th>Diarr_OBS</th>\n",
       "      <th>Gastro_OBS</th>\n",
       "      <th>lastdate</th>\n",
       "      <th>week</th>\n",
       "      <th>POP</th>\n",
       "    </tr>\n",
       "  </thead>\n",
       "  <tbody>\n",
       "    <tr>\n",
       "      <th>0</th>\n",
       "      <td>E09000002</td>\n",
       "      <td>Barking and Dagenham</td>\n",
       "      <td>63009</td>\n",
       "      <td>1.0</td>\n",
       "      <td>13.0</td>\n",
       "      <td>9.0</td>\n",
       "      <td>33.0</td>\n",
       "      <td>17741.0</td>\n",
       "      <td>30.0</td>\n",
       "      <td>63009.0</td>\n",
       "    </tr>\n",
       "    <tr>\n",
       "      <th>1</th>\n",
       "      <td>E09000003</td>\n",
       "      <td>Barnet</td>\n",
       "      <td>225813</td>\n",
       "      <td>1.0</td>\n",
       "      <td>40.0</td>\n",
       "      <td>101.0</td>\n",
       "      <td>148.0</td>\n",
       "      <td>17741.0</td>\n",
       "      <td>30.0</td>\n",
       "      <td>225813.0</td>\n",
       "    </tr>\n",
       "    <tr>\n",
       "      <th>2</th>\n",
       "      <td>E09000004</td>\n",
       "      <td>Bexley</td>\n",
       "      <td>46339</td>\n",
       "      <td>1.0</td>\n",
       "      <td>11.0</td>\n",
       "      <td>12.0</td>\n",
       "      <td>24.0</td>\n",
       "      <td>17741.0</td>\n",
       "      <td>30.0</td>\n",
       "      <td>46339.0</td>\n",
       "    </tr>\n",
       "    <tr>\n",
       "      <th>3</th>\n",
       "      <td>E09000005</td>\n",
       "      <td>Brent</td>\n",
       "      <td>178399</td>\n",
       "      <td>1.0</td>\n",
       "      <td>43.0</td>\n",
       "      <td>57.0</td>\n",
       "      <td>97.0</td>\n",
       "      <td>17741.0</td>\n",
       "      <td>30.0</td>\n",
       "      <td>178399.0</td>\n",
       "    </tr>\n",
       "    <tr>\n",
       "      <th>4</th>\n",
       "      <td>E09000006</td>\n",
       "      <td>Bromley</td>\n",
       "      <td>168381</td>\n",
       "      <td>0.0</td>\n",
       "      <td>19.0</td>\n",
       "      <td>43.0</td>\n",
       "      <td>79.0</td>\n",
       "      <td>17741.0</td>\n",
       "      <td>30.0</td>\n",
       "      <td>168381.0</td>\n",
       "    </tr>\n",
       "  </tbody>\n",
       "</table>\n",
       "</div>"
      ],
      "text/plain": [
       "        CODE                  NAME TOTAL_POP  Flu_OBS  Vom_OBS  Diarr_OBS  \\\n",
       "0  E09000002  Barking and Dagenham     63009      1.0     13.0        9.0   \n",
       "1  E09000003                Barnet    225813      1.0     40.0      101.0   \n",
       "2  E09000004                Bexley     46339      1.0     11.0       12.0   \n",
       "3  E09000005                 Brent    178399      1.0     43.0       57.0   \n",
       "4  E09000006               Bromley    168381      0.0     19.0       43.0   \n",
       "\n",
       "   Gastro_OBS  lastdate  week       POP  \n",
       "0        33.0   17741.0  30.0   63009.0  \n",
       "1       148.0   17741.0  30.0  225813.0  \n",
       "2        24.0   17741.0  30.0   46339.0  \n",
       "3        97.0   17741.0  30.0  178399.0  \n",
       "4        79.0   17741.0  30.0  168381.0  "
      ]
     },
     "execution_count": 11,
     "metadata": {},
     "output_type": "execute_result"
    }
   ],
   "source": [
    "inhours.head()"
   ]
  },
  {
   "cell_type": "markdown",
   "id": "f22bb831-a508-4cf9-9406-814c1d2af0ef",
   "metadata": {},
   "source": [
    "<br>\n",
    "\n",
    "**Missing values**"
   ]
  },
  {
   "cell_type": "code",
   "execution_count": 12,
   "id": "7bb02a08-694c-40cd-9003-867056e161bb",
   "metadata": {},
   "outputs": [
    {
     "data": {
      "text/plain": [
       "Bury                         115\n",
       "Isle of Wight                 53\n",
       "Wokingham                     50\n",
       "Lambeth                        1\n",
       "Bexley                         1\n",
       "Barking and Dagenham           1\n",
       "Rochdale                       1\n",
       "Herefordshire, County of       1\n",
       "Greenwich                      1\n",
       "Merton                         1\n",
       "Sutton                         1\n",
       "Cheshire West and Chester      1\n",
       "Knowsley                       1\n",
       "Name: NAME, dtype: int64"
      ]
     },
     "execution_count": 12,
     "metadata": {},
     "output_type": "execute_result"
    }
   ],
   "source": [
    "inhours.loc[np.isnan(inhours.POP), 'NAME'].value_counts()"
   ]
  },
  {
   "cell_type": "markdown",
   "id": "f68db711-2503-40ba-8edf-c880518f7ff4",
   "metadata": {},
   "source": [
    "<br>\n",
    "<br>\n",
    "\n",
    "### Fix the date"
   ]
  },
  {
   "cell_type": "code",
   "execution_count": 13,
   "id": "2e67c6b0-7efa-4de3-a36c-a34b1578c757",
   "metadata": {},
   "outputs": [],
   "source": [
    "inhours.loc[:, 'date'] = pd.to_datetime(inhours.lastdate, unit='D', origin='unix')"
   ]
  },
  {
   "cell_type": "code",
   "execution_count": 14,
   "id": "7af55a80-5603-49e6-abf5-dcc1252094a9",
   "metadata": {},
   "outputs": [
    {
     "data": {
      "text/plain": [
       "count                            47084\n",
       "mean     2017-01-17 20:39:29.620252928\n",
       "min                2014-01-05 00:00:00\n",
       "25%                2015-07-17 06:00:00\n",
       "50%                2017-01-18 12:00:00\n",
       "75%                2018-07-23 18:00:00\n",
       "max                2020-01-26 00:00:00\n",
       "Name: date, dtype: object"
      ]
     },
     "execution_count": 14,
     "metadata": {},
     "output_type": "execute_result"
    }
   ],
   "source": [
    "inhours.date.describe(datetime_is_numeric=True)"
   ]
  },
  {
   "cell_type": "markdown",
   "id": "44c3c4e3-10b6-43c3-8942-a530a17e919a",
   "metadata": {},
   "source": [
    "<br>\n",
    "<br>\n",
    "\n",
    "### Trim the years"
   ]
  },
  {
   "cell_type": "code",
   "execution_count": 15,
   "id": "063bc2f8-3a7b-42d5-925f-5bfbe5046454",
   "metadata": {},
   "outputs": [],
   "source": [
    "inhours.loc[:, 'year'] = inhours.date.dt.year"
   ]
  },
  {
   "cell_type": "code",
   "execution_count": 16,
   "id": "061bf1f1-0021-4c7d-9c0a-0d7061373895",
   "metadata": {},
   "outputs": [
    {
     "data": {
      "text/plain": [
       "2017    7897\n",
       "2015    7748\n",
       "2019    7748\n",
       "2018    7748\n",
       "2016    7748\n",
       "2014    7599\n",
       "2020     596\n",
       "Name: year, dtype: int64"
      ]
     },
     "execution_count": 16,
     "metadata": {},
     "output_type": "execute_result"
    }
   ],
   "source": [
    "inhours.year.value_counts()"
   ]
  },
  {
   "cell_type": "code",
   "execution_count": 17,
   "id": "f52d0a8a-a182-4d9e-b128-f1e590ba6049",
   "metadata": {},
   "outputs": [
    {
     "data": {
      "text/plain": [
       "(47084, 12)"
      ]
     },
     "execution_count": 17,
     "metadata": {},
     "output_type": "execute_result"
    }
   ],
   "source": [
    "inhours.shape"
   ]
  },
  {
   "cell_type": "markdown",
   "id": "c81aad41-7c9a-4e6c-a4be-428a4fd45e9d",
   "metadata": {},
   "source": [
    "<br>\n",
    "\n",
    "Reduce"
   ]
  },
  {
   "cell_type": "code",
   "execution_count": 18,
   "id": "8a1caf3b-50aa-415f-ac3f-80033d0951ba",
   "metadata": {},
   "outputs": [],
   "source": [
    "inhours = inhours.loc[inhours.year != 2020, :]"
   ]
  },
  {
   "cell_type": "code",
   "execution_count": 19,
   "id": "94d49ef1-f8c3-40de-b293-3716d0f01386",
   "metadata": {},
   "outputs": [
    {
     "data": {
      "text/plain": [
       "2017    7897\n",
       "2015    7748\n",
       "2019    7748\n",
       "2018    7748\n",
       "2016    7748\n",
       "2014    7599\n",
       "Name: year, dtype: int64"
      ]
     },
     "execution_count": 19,
     "metadata": {},
     "output_type": "execute_result"
    }
   ],
   "source": [
    "inhours.year.value_counts()"
   ]
  },
  {
   "cell_type": "code",
   "execution_count": 20,
   "id": "52cbcf93-8045-448e-ab64-2d1e270f4484",
   "metadata": {},
   "outputs": [
    {
     "data": {
      "text/plain": [
       "(46488, 12)"
      ]
     },
     "execution_count": 20,
     "metadata": {},
     "output_type": "execute_result"
    }
   ],
   "source": [
    "inhours.shape"
   ]
  },
  {
   "cell_type": "markdown",
   "id": "13d46208-28c1-454c-ab24-bfcf8c783295",
   "metadata": {},
   "source": [
    "<br>\n",
    "<br>\n",
    "\n",
    "### Drop zero populations"
   ]
  },
  {
   "cell_type": "code",
   "execution_count": 21,
   "id": "d5ab09da-0c4d-4a5f-a98a-c8b47a8c28d2",
   "metadata": {},
   "outputs": [],
   "source": [
    "inhours = inhours.loc[inhours.POP != 0, :]"
   ]
  },
  {
   "cell_type": "code",
   "execution_count": 22,
   "id": "34cf27e3-456e-416e-b603-d8e156105252",
   "metadata": {},
   "outputs": [],
   "source": [
    "inhours = inhours.loc[~np.isnan(inhours.POP), :]"
   ]
  },
  {
   "cell_type": "markdown",
   "id": "a5fe5b23-7ab5-4997-a973-5dbb152024cd",
   "metadata": {},
   "source": [
    "<br>\n",
    "<br>\n",
    "\n",
    "### Final clean data"
   ]
  },
  {
   "cell_type": "code",
   "execution_count": 23,
   "id": "bd48e2ba-3927-4589-9ca4-63cb860cb94b",
   "metadata": {},
   "outputs": [
    {
     "data": {
      "text/html": [
       "<div>\n",
       "<style scoped>\n",
       "    .dataframe tbody tr th:only-of-type {\n",
       "        vertical-align: middle;\n",
       "    }\n",
       "\n",
       "    .dataframe tbody tr th {\n",
       "        vertical-align: top;\n",
       "    }\n",
       "\n",
       "    .dataframe thead th {\n",
       "        text-align: right;\n",
       "    }\n",
       "</style>\n",
       "<table border=\"1\" class=\"dataframe\">\n",
       "  <thead>\n",
       "    <tr style=\"text-align: right;\">\n",
       "      <th></th>\n",
       "      <th>CODE</th>\n",
       "      <th>NAME</th>\n",
       "      <th>TOTAL_POP</th>\n",
       "      <th>Flu_OBS</th>\n",
       "      <th>Vom_OBS</th>\n",
       "      <th>Diarr_OBS</th>\n",
       "      <th>Gastro_OBS</th>\n",
       "      <th>lastdate</th>\n",
       "      <th>week</th>\n",
       "      <th>POP</th>\n",
       "      <th>date</th>\n",
       "      <th>year</th>\n",
       "    </tr>\n",
       "  </thead>\n",
       "  <tbody>\n",
       "    <tr>\n",
       "      <th>0</th>\n",
       "      <td>E09000002</td>\n",
       "      <td>Barking and Dagenham</td>\n",
       "      <td>63009</td>\n",
       "      <td>1.0</td>\n",
       "      <td>13.0</td>\n",
       "      <td>9.0</td>\n",
       "      <td>33.0</td>\n",
       "      <td>17741.0</td>\n",
       "      <td>30.0</td>\n",
       "      <td>63009.0</td>\n",
       "      <td>2018-07-29</td>\n",
       "      <td>2018</td>\n",
       "    </tr>\n",
       "    <tr>\n",
       "      <th>1</th>\n",
       "      <td>E09000003</td>\n",
       "      <td>Barnet</td>\n",
       "      <td>225813</td>\n",
       "      <td>1.0</td>\n",
       "      <td>40.0</td>\n",
       "      <td>101.0</td>\n",
       "      <td>148.0</td>\n",
       "      <td>17741.0</td>\n",
       "      <td>30.0</td>\n",
       "      <td>225813.0</td>\n",
       "      <td>2018-07-29</td>\n",
       "      <td>2018</td>\n",
       "    </tr>\n",
       "    <tr>\n",
       "      <th>2</th>\n",
       "      <td>E09000004</td>\n",
       "      <td>Bexley</td>\n",
       "      <td>46339</td>\n",
       "      <td>1.0</td>\n",
       "      <td>11.0</td>\n",
       "      <td>12.0</td>\n",
       "      <td>24.0</td>\n",
       "      <td>17741.0</td>\n",
       "      <td>30.0</td>\n",
       "      <td>46339.0</td>\n",
       "      <td>2018-07-29</td>\n",
       "      <td>2018</td>\n",
       "    </tr>\n",
       "    <tr>\n",
       "      <th>3</th>\n",
       "      <td>E09000005</td>\n",
       "      <td>Brent</td>\n",
       "      <td>178399</td>\n",
       "      <td>1.0</td>\n",
       "      <td>43.0</td>\n",
       "      <td>57.0</td>\n",
       "      <td>97.0</td>\n",
       "      <td>17741.0</td>\n",
       "      <td>30.0</td>\n",
       "      <td>178399.0</td>\n",
       "      <td>2018-07-29</td>\n",
       "      <td>2018</td>\n",
       "    </tr>\n",
       "    <tr>\n",
       "      <th>4</th>\n",
       "      <td>E09000006</td>\n",
       "      <td>Bromley</td>\n",
       "      <td>168381</td>\n",
       "      <td>0.0</td>\n",
       "      <td>19.0</td>\n",
       "      <td>43.0</td>\n",
       "      <td>79.0</td>\n",
       "      <td>17741.0</td>\n",
       "      <td>30.0</td>\n",
       "      <td>168381.0</td>\n",
       "      <td>2018-07-29</td>\n",
       "      <td>2018</td>\n",
       "    </tr>\n",
       "    <tr>\n",
       "      <th>...</th>\n",
       "      <td>...</td>\n",
       "      <td>...</td>\n",
       "      <td>...</td>\n",
       "      <td>...</td>\n",
       "      <td>...</td>\n",
       "      <td>...</td>\n",
       "      <td>...</td>\n",
       "      <td>...</td>\n",
       "      <td>...</td>\n",
       "      <td>...</td>\n",
       "      <td>...</td>\n",
       "      <td>...</td>\n",
       "    </tr>\n",
       "    <tr>\n",
       "      <th>46483</th>\n",
       "      <td>E06000041</td>\n",
       "      <td>Wokingham</td>\n",
       "      <td>150642</td>\n",
       "      <td>14.0</td>\n",
       "      <td>12.0</td>\n",
       "      <td>22.0</td>\n",
       "      <td>38.0</td>\n",
       "      <td>18258.0</td>\n",
       "      <td>52.0</td>\n",
       "      <td>150642.0</td>\n",
       "      <td>2019-12-28</td>\n",
       "      <td>2019</td>\n",
       "    </tr>\n",
       "    <tr>\n",
       "      <th>46484</th>\n",
       "      <td>E10000014</td>\n",
       "      <td>Hampshire</td>\n",
       "      <td>1284063</td>\n",
       "      <td>117.0</td>\n",
       "      <td>120.0</td>\n",
       "      <td>240.0</td>\n",
       "      <td>376.0</td>\n",
       "      <td>18258.0</td>\n",
       "      <td>52.0</td>\n",
       "      <td>1284063.0</td>\n",
       "      <td>2019-12-28</td>\n",
       "      <td>2019</td>\n",
       "    </tr>\n",
       "    <tr>\n",
       "      <th>46485</th>\n",
       "      <td>E06000046</td>\n",
       "      <td>Isle of Wight</td>\n",
       "      <td>67289</td>\n",
       "      <td>1.0</td>\n",
       "      <td>1.0</td>\n",
       "      <td>1.0</td>\n",
       "      <td>44.0</td>\n",
       "      <td>18258.0</td>\n",
       "      <td>52.0</td>\n",
       "      <td>67289.0</td>\n",
       "      <td>2019-12-28</td>\n",
       "      <td>2019</td>\n",
       "    </tr>\n",
       "    <tr>\n",
       "      <th>46486</th>\n",
       "      <td>E06000044</td>\n",
       "      <td>Portsmouth</td>\n",
       "      <td>183875</td>\n",
       "      <td>1.0</td>\n",
       "      <td>1.0</td>\n",
       "      <td>1.0</td>\n",
       "      <td>48.0</td>\n",
       "      <td>18258.0</td>\n",
       "      <td>52.0</td>\n",
       "      <td>183875.0</td>\n",
       "      <td>2019-12-28</td>\n",
       "      <td>2019</td>\n",
       "    </tr>\n",
       "    <tr>\n",
       "      <th>46487</th>\n",
       "      <td>E06000045</td>\n",
       "      <td>Southampton</td>\n",
       "      <td>222761</td>\n",
       "      <td>11.0</td>\n",
       "      <td>11.0</td>\n",
       "      <td>22.0</td>\n",
       "      <td>40.0</td>\n",
       "      <td>18258.0</td>\n",
       "      <td>52.0</td>\n",
       "      <td>222761.0</td>\n",
       "      <td>2019-12-28</td>\n",
       "      <td>2019</td>\n",
       "    </tr>\n",
       "  </tbody>\n",
       "</table>\n",
       "<p>45924 rows × 12 columns</p>\n",
       "</div>"
      ],
      "text/plain": [
       "            CODE                  NAME TOTAL_POP  Flu_OBS  Vom_OBS  Diarr_OBS  \\\n",
       "0      E09000002  Barking and Dagenham     63009      1.0     13.0        9.0   \n",
       "1      E09000003                Barnet    225813      1.0     40.0      101.0   \n",
       "2      E09000004                Bexley     46339      1.0     11.0       12.0   \n",
       "3      E09000005                 Brent    178399      1.0     43.0       57.0   \n",
       "4      E09000006               Bromley    168381      0.0     19.0       43.0   \n",
       "...          ...                   ...       ...      ...      ...        ...   \n",
       "46483  E06000041             Wokingham    150642     14.0     12.0       22.0   \n",
       "46484  E10000014             Hampshire   1284063    117.0    120.0      240.0   \n",
       "46485  E06000046         Isle of Wight     67289      1.0      1.0        1.0   \n",
       "46486  E06000044            Portsmouth    183875      1.0      1.0        1.0   \n",
       "46487  E06000045           Southampton    222761     11.0     11.0       22.0   \n",
       "\n",
       "       Gastro_OBS  lastdate  week        POP       date  year  \n",
       "0            33.0   17741.0  30.0    63009.0 2018-07-29  2018  \n",
       "1           148.0   17741.0  30.0   225813.0 2018-07-29  2018  \n",
       "2            24.0   17741.0  30.0    46339.0 2018-07-29  2018  \n",
       "3            97.0   17741.0  30.0   178399.0 2018-07-29  2018  \n",
       "4            79.0   17741.0  30.0   168381.0 2018-07-29  2018  \n",
       "...           ...       ...   ...        ...        ...   ...  \n",
       "46483        38.0   18258.0  52.0   150642.0 2019-12-28  2019  \n",
       "46484       376.0   18258.0  52.0  1284063.0 2019-12-28  2019  \n",
       "46485        44.0   18258.0  52.0    67289.0 2019-12-28  2019  \n",
       "46486        48.0   18258.0  52.0   183875.0 2019-12-28  2019  \n",
       "46487        40.0   18258.0  52.0   222761.0 2019-12-28  2019  \n",
       "\n",
       "[45924 rows x 12 columns]"
      ]
     },
     "execution_count": 23,
     "metadata": {},
     "output_type": "execute_result"
    }
   ],
   "source": [
    "inhours"
   ]
  },
  {
   "cell_type": "markdown",
   "id": "9c01c288-955d-49dd-ac00-c3d94aaeffc8",
   "metadata": {},
   "source": [
    "<br>\n",
    "<br>\n",
    "\n",
    "## North South Divide"
   ]
  },
  {
   "cell_type": "markdown",
   "id": "cb78f3c9-6269-4fec-b999-713290ee53a2",
   "metadata": {},
   "source": [
    "\n",
    "### Read the table"
   ]
  },
  {
   "cell_type": "code",
   "execution_count": 24,
   "id": "38673d13-3ff3-447a-9c33-12a3b4ff3edd",
   "metadata": {},
   "outputs": [],
   "source": [
    "connection = sqlite.connecting()\n",
    "query = 'SELECT * FROM localauth'\n",
    "localauth = pd.read_sql_query(query, connection)\n",
    "connection.close()"
   ]
  },
  {
   "cell_type": "code",
   "execution_count": 25,
   "id": "9f619296-74af-4e34-95e3-f02d8d8188fe",
   "metadata": {},
   "outputs": [
    {
     "name": "stdout",
     "output_type": "stream",
     "text": [
      "<class 'pandas.core.frame.DataFrame'>\n",
      "RangeIndex: 149 entries, 0 to 148\n",
      "Data columns (total 2 columns):\n",
      " #   Column  Non-Null Count  Dtype \n",
      "---  ------  --------------  ----- \n",
      " 0   NAME    149 non-null    object\n",
      " 1   NS      149 non-null    object\n",
      "dtypes: object(2)\n",
      "memory usage: 2.5+ KB\n"
     ]
    }
   ],
   "source": [
    "localauth.info()"
   ]
  },
  {
   "cell_type": "code",
   "execution_count": 26,
   "id": "70fd4a05-b298-4a53-8c37-8dd97ef14a6c",
   "metadata": {},
   "outputs": [
    {
     "data": {
      "text/html": [
       "<div>\n",
       "<style scoped>\n",
       "    .dataframe tbody tr th:only-of-type {\n",
       "        vertical-align: middle;\n",
       "    }\n",
       "\n",
       "    .dataframe tbody tr th {\n",
       "        vertical-align: top;\n",
       "    }\n",
       "\n",
       "    .dataframe thead th {\n",
       "        text-align: right;\n",
       "    }\n",
       "</style>\n",
       "<table border=\"1\" class=\"dataframe\">\n",
       "  <thead>\n",
       "    <tr style=\"text-align: right;\">\n",
       "      <th></th>\n",
       "      <th>NAME</th>\n",
       "      <th>NS</th>\n",
       "    </tr>\n",
       "  </thead>\n",
       "  <tbody>\n",
       "    <tr>\n",
       "      <th>0</th>\n",
       "      <td>Barking and Dagenham</td>\n",
       "      <td>South</td>\n",
       "    </tr>\n",
       "    <tr>\n",
       "      <th>1</th>\n",
       "      <td>Barnet</td>\n",
       "      <td>South</td>\n",
       "    </tr>\n",
       "    <tr>\n",
       "      <th>2</th>\n",
       "      <td>Barnsley</td>\n",
       "      <td>North</td>\n",
       "    </tr>\n",
       "    <tr>\n",
       "      <th>3</th>\n",
       "      <td>Bath and North East Somerset</td>\n",
       "      <td>South</td>\n",
       "    </tr>\n",
       "    <tr>\n",
       "      <th>4</th>\n",
       "      <td>Bedford</td>\n",
       "      <td>South</td>\n",
       "    </tr>\n",
       "  </tbody>\n",
       "</table>\n",
       "</div>"
      ],
      "text/plain": [
       "                           NAME     NS\n",
       "0          Barking and Dagenham  South\n",
       "1                        Barnet  South\n",
       "2                      Barnsley  North\n",
       "3  Bath and North East Somerset  South\n",
       "4                       Bedford  South"
      ]
     },
     "execution_count": 26,
     "metadata": {},
     "output_type": "execute_result"
    }
   ],
   "source": [
    "localauth.head()"
   ]
  },
  {
   "cell_type": "markdown",
   "id": "c1befa42-ea9c-45d5-80f3-2f25fadb84aa",
   "metadata": {},
   "source": [
    "<br>\n",
    "\n",
    "### Merge with GP data"
   ]
  },
  {
   "cell_type": "code",
   "execution_count": 27,
   "id": "561eadad-9a98-4d37-bd99-abcbcd0d721c",
   "metadata": {},
   "outputs": [],
   "source": [
    "inhoursNS = inhours.merge(localauth, how='left', on='NAME')"
   ]
  },
  {
   "cell_type": "code",
   "execution_count": 28,
   "id": "e0fcb314-67b6-428d-92c4-27b8b435fc0d",
   "metadata": {},
   "outputs": [
    {
     "data": {
      "text/html": [
       "<div>\n",
       "<style scoped>\n",
       "    .dataframe tbody tr th:only-of-type {\n",
       "        vertical-align: middle;\n",
       "    }\n",
       "\n",
       "    .dataframe tbody tr th {\n",
       "        vertical-align: top;\n",
       "    }\n",
       "\n",
       "    .dataframe thead th {\n",
       "        text-align: right;\n",
       "    }\n",
       "</style>\n",
       "<table border=\"1\" class=\"dataframe\">\n",
       "  <thead>\n",
       "    <tr style=\"text-align: right;\">\n",
       "      <th></th>\n",
       "      <th>CODE</th>\n",
       "      <th>NAME</th>\n",
       "      <th>TOTAL_POP</th>\n",
       "      <th>Flu_OBS</th>\n",
       "      <th>Vom_OBS</th>\n",
       "      <th>Diarr_OBS</th>\n",
       "      <th>Gastro_OBS</th>\n",
       "      <th>lastdate</th>\n",
       "      <th>week</th>\n",
       "      <th>POP</th>\n",
       "      <th>date</th>\n",
       "      <th>year</th>\n",
       "      <th>NS</th>\n",
       "    </tr>\n",
       "  </thead>\n",
       "  <tbody>\n",
       "    <tr>\n",
       "      <th>0</th>\n",
       "      <td>E09000002</td>\n",
       "      <td>Barking and Dagenham</td>\n",
       "      <td>63009</td>\n",
       "      <td>1.0</td>\n",
       "      <td>13.0</td>\n",
       "      <td>9.0</td>\n",
       "      <td>33.0</td>\n",
       "      <td>17741.0</td>\n",
       "      <td>30.0</td>\n",
       "      <td>63009.0</td>\n",
       "      <td>2018-07-29</td>\n",
       "      <td>2018</td>\n",
       "      <td>South</td>\n",
       "    </tr>\n",
       "    <tr>\n",
       "      <th>1</th>\n",
       "      <td>E09000003</td>\n",
       "      <td>Barnet</td>\n",
       "      <td>225813</td>\n",
       "      <td>1.0</td>\n",
       "      <td>40.0</td>\n",
       "      <td>101.0</td>\n",
       "      <td>148.0</td>\n",
       "      <td>17741.0</td>\n",
       "      <td>30.0</td>\n",
       "      <td>225813.0</td>\n",
       "      <td>2018-07-29</td>\n",
       "      <td>2018</td>\n",
       "      <td>South</td>\n",
       "    </tr>\n",
       "    <tr>\n",
       "      <th>2</th>\n",
       "      <td>E09000004</td>\n",
       "      <td>Bexley</td>\n",
       "      <td>46339</td>\n",
       "      <td>1.0</td>\n",
       "      <td>11.0</td>\n",
       "      <td>12.0</td>\n",
       "      <td>24.0</td>\n",
       "      <td>17741.0</td>\n",
       "      <td>30.0</td>\n",
       "      <td>46339.0</td>\n",
       "      <td>2018-07-29</td>\n",
       "      <td>2018</td>\n",
       "      <td>South</td>\n",
       "    </tr>\n",
       "    <tr>\n",
       "      <th>3</th>\n",
       "      <td>E09000005</td>\n",
       "      <td>Brent</td>\n",
       "      <td>178399</td>\n",
       "      <td>1.0</td>\n",
       "      <td>43.0</td>\n",
       "      <td>57.0</td>\n",
       "      <td>97.0</td>\n",
       "      <td>17741.0</td>\n",
       "      <td>30.0</td>\n",
       "      <td>178399.0</td>\n",
       "      <td>2018-07-29</td>\n",
       "      <td>2018</td>\n",
       "      <td>South</td>\n",
       "    </tr>\n",
       "    <tr>\n",
       "      <th>4</th>\n",
       "      <td>E09000006</td>\n",
       "      <td>Bromley</td>\n",
       "      <td>168381</td>\n",
       "      <td>0.0</td>\n",
       "      <td>19.0</td>\n",
       "      <td>43.0</td>\n",
       "      <td>79.0</td>\n",
       "      <td>17741.0</td>\n",
       "      <td>30.0</td>\n",
       "      <td>168381.0</td>\n",
       "      <td>2018-07-29</td>\n",
       "      <td>2018</td>\n",
       "      <td>South</td>\n",
       "    </tr>\n",
       "    <tr>\n",
       "      <th>...</th>\n",
       "      <td>...</td>\n",
       "      <td>...</td>\n",
       "      <td>...</td>\n",
       "      <td>...</td>\n",
       "      <td>...</td>\n",
       "      <td>...</td>\n",
       "      <td>...</td>\n",
       "      <td>...</td>\n",
       "      <td>...</td>\n",
       "      <td>...</td>\n",
       "      <td>...</td>\n",
       "      <td>...</td>\n",
       "      <td>...</td>\n",
       "    </tr>\n",
       "    <tr>\n",
       "      <th>45919</th>\n",
       "      <td>E06000041</td>\n",
       "      <td>Wokingham</td>\n",
       "      <td>150642</td>\n",
       "      <td>14.0</td>\n",
       "      <td>12.0</td>\n",
       "      <td>22.0</td>\n",
       "      <td>38.0</td>\n",
       "      <td>18258.0</td>\n",
       "      <td>52.0</td>\n",
       "      <td>150642.0</td>\n",
       "      <td>2019-12-28</td>\n",
       "      <td>2019</td>\n",
       "      <td>South</td>\n",
       "    </tr>\n",
       "    <tr>\n",
       "      <th>45920</th>\n",
       "      <td>E10000014</td>\n",
       "      <td>Hampshire</td>\n",
       "      <td>1284063</td>\n",
       "      <td>117.0</td>\n",
       "      <td>120.0</td>\n",
       "      <td>240.0</td>\n",
       "      <td>376.0</td>\n",
       "      <td>18258.0</td>\n",
       "      <td>52.0</td>\n",
       "      <td>1284063.0</td>\n",
       "      <td>2019-12-28</td>\n",
       "      <td>2019</td>\n",
       "      <td>South</td>\n",
       "    </tr>\n",
       "    <tr>\n",
       "      <th>45921</th>\n",
       "      <td>E06000046</td>\n",
       "      <td>Isle of Wight</td>\n",
       "      <td>67289</td>\n",
       "      <td>1.0</td>\n",
       "      <td>1.0</td>\n",
       "      <td>1.0</td>\n",
       "      <td>44.0</td>\n",
       "      <td>18258.0</td>\n",
       "      <td>52.0</td>\n",
       "      <td>67289.0</td>\n",
       "      <td>2019-12-28</td>\n",
       "      <td>2019</td>\n",
       "      <td>South</td>\n",
       "    </tr>\n",
       "    <tr>\n",
       "      <th>45922</th>\n",
       "      <td>E06000044</td>\n",
       "      <td>Portsmouth</td>\n",
       "      <td>183875</td>\n",
       "      <td>1.0</td>\n",
       "      <td>1.0</td>\n",
       "      <td>1.0</td>\n",
       "      <td>48.0</td>\n",
       "      <td>18258.0</td>\n",
       "      <td>52.0</td>\n",
       "      <td>183875.0</td>\n",
       "      <td>2019-12-28</td>\n",
       "      <td>2019</td>\n",
       "      <td>South</td>\n",
       "    </tr>\n",
       "    <tr>\n",
       "      <th>45923</th>\n",
       "      <td>E06000045</td>\n",
       "      <td>Southampton</td>\n",
       "      <td>222761</td>\n",
       "      <td>11.0</td>\n",
       "      <td>11.0</td>\n",
       "      <td>22.0</td>\n",
       "      <td>40.0</td>\n",
       "      <td>18258.0</td>\n",
       "      <td>52.0</td>\n",
       "      <td>222761.0</td>\n",
       "      <td>2019-12-28</td>\n",
       "      <td>2019</td>\n",
       "      <td>South</td>\n",
       "    </tr>\n",
       "  </tbody>\n",
       "</table>\n",
       "<p>45924 rows × 13 columns</p>\n",
       "</div>"
      ],
      "text/plain": [
       "            CODE                  NAME TOTAL_POP  Flu_OBS  Vom_OBS  Diarr_OBS  \\\n",
       "0      E09000002  Barking and Dagenham     63009      1.0     13.0        9.0   \n",
       "1      E09000003                Barnet    225813      1.0     40.0      101.0   \n",
       "2      E09000004                Bexley     46339      1.0     11.0       12.0   \n",
       "3      E09000005                 Brent    178399      1.0     43.0       57.0   \n",
       "4      E09000006               Bromley    168381      0.0     19.0       43.0   \n",
       "...          ...                   ...       ...      ...      ...        ...   \n",
       "45919  E06000041             Wokingham    150642     14.0     12.0       22.0   \n",
       "45920  E10000014             Hampshire   1284063    117.0    120.0      240.0   \n",
       "45921  E06000046         Isle of Wight     67289      1.0      1.0        1.0   \n",
       "45922  E06000044            Portsmouth    183875      1.0      1.0        1.0   \n",
       "45923  E06000045           Southampton    222761     11.0     11.0       22.0   \n",
       "\n",
       "       Gastro_OBS  lastdate  week        POP       date  year     NS  \n",
       "0            33.0   17741.0  30.0    63009.0 2018-07-29  2018  South  \n",
       "1           148.0   17741.0  30.0   225813.0 2018-07-29  2018  South  \n",
       "2            24.0   17741.0  30.0    46339.0 2018-07-29  2018  South  \n",
       "3            97.0   17741.0  30.0   178399.0 2018-07-29  2018  South  \n",
       "4            79.0   17741.0  30.0   168381.0 2018-07-29  2018  South  \n",
       "...           ...       ...   ...        ...        ...   ...    ...  \n",
       "45919        38.0   18258.0  52.0   150642.0 2019-12-28  2019  South  \n",
       "45920       376.0   18258.0  52.0  1284063.0 2019-12-28  2019  South  \n",
       "45921        44.0   18258.0  52.0    67289.0 2019-12-28  2019  South  \n",
       "45922        48.0   18258.0  52.0   183875.0 2019-12-28  2019  South  \n",
       "45923        40.0   18258.0  52.0   222761.0 2019-12-28  2019  South  \n",
       "\n",
       "[45924 rows x 13 columns]"
      ]
     },
     "execution_count": 28,
     "metadata": {},
     "output_type": "execute_result"
    }
   ],
   "source": [
    "inhoursNS"
   ]
  },
  {
   "cell_type": "markdown",
   "id": "e9ecb650-5e51-4760-b8d2-46337b34b175",
   "metadata": {},
   "source": [
    "<br>\n",
    "<br>\n",
    "\n",
    "### Group and aggregate"
   ]
  },
  {
   "cell_type": "code",
   "execution_count": 29,
   "id": "b49a71da-0ef1-4c27-bbf5-77a85645020b",
   "metadata": {},
   "outputs": [],
   "source": [
    "fields = ['NS', 'year', 'POP', 'Flu_OBS', 'Vom_OBS', 'Diarr_OBS', 'Gastro_OBS']"
   ]
  },
  {
   "cell_type": "code",
   "execution_count": 30,
   "id": "ae188ba6-1a76-4bae-8562-deccf4f9b23b",
   "metadata": {},
   "outputs": [
    {
     "data": {
      "text/html": [
       "<div>\n",
       "<style scoped>\n",
       "    .dataframe tbody tr th:only-of-type {\n",
       "        vertical-align: middle;\n",
       "    }\n",
       "\n",
       "    .dataframe tbody tr th {\n",
       "        vertical-align: top;\n",
       "    }\n",
       "\n",
       "    .dataframe thead th {\n",
       "        text-align: right;\n",
       "    }\n",
       "</style>\n",
       "<table border=\"1\" class=\"dataframe\">\n",
       "  <thead>\n",
       "    <tr style=\"text-align: right;\">\n",
       "      <th></th>\n",
       "      <th></th>\n",
       "      <th>Total</th>\n",
       "      <th>Flu_OBS</th>\n",
       "      <th>Vom_OBS</th>\n",
       "      <th>Diarr_OBS</th>\n",
       "      <th>Gastro_OBS</th>\n",
       "    </tr>\n",
       "    <tr>\n",
       "      <th>NS</th>\n",
       "      <th>year</th>\n",
       "      <th></th>\n",
       "      <th></th>\n",
       "      <th></th>\n",
       "      <th></th>\n",
       "      <th></th>\n",
       "    </tr>\n",
       "  </thead>\n",
       "  <tbody>\n",
       "    <tr>\n",
       "      <th rowspan=\"6\" valign=\"top\">North</th>\n",
       "      <th>2014</th>\n",
       "      <td>719655399.0</td>\n",
       "      <td>31870.0</td>\n",
       "      <td>144469.0</td>\n",
       "      <td>279606.0</td>\n",
       "      <td>524322.0</td>\n",
       "    </tr>\n",
       "    <tr>\n",
       "      <th>2015</th>\n",
       "      <td>812875983.0</td>\n",
       "      <td>44352.0</td>\n",
       "      <td>155056.0</td>\n",
       "      <td>302202.0</td>\n",
       "      <td>555413.0</td>\n",
       "    </tr>\n",
       "    <tr>\n",
       "      <th>2016</th>\n",
       "      <td>852949550.0</td>\n",
       "      <td>48895.0</td>\n",
       "      <td>159742.0</td>\n",
       "      <td>307934.0</td>\n",
       "      <td>569276.0</td>\n",
       "    </tr>\n",
       "    <tr>\n",
       "      <th>2017</th>\n",
       "      <td>737539944.0</td>\n",
       "      <td>30220.0</td>\n",
       "      <td>122787.0</td>\n",
       "      <td>248197.0</td>\n",
       "      <td>462994.0</td>\n",
       "    </tr>\n",
       "    <tr>\n",
       "      <th>2018</th>\n",
       "      <td>607900399.0</td>\n",
       "      <td>46228.0</td>\n",
       "      <td>90951.0</td>\n",
       "      <td>194246.0</td>\n",
       "      <td>365863.0</td>\n",
       "    </tr>\n",
       "    <tr>\n",
       "      <th>2019</th>\n",
       "      <td>614454668.0</td>\n",
       "      <td>31826.0</td>\n",
       "      <td>87114.0</td>\n",
       "      <td>186457.0</td>\n",
       "      <td>357594.0</td>\n",
       "    </tr>\n",
       "    <tr>\n",
       "      <th rowspan=\"6\" valign=\"top\">South</th>\n",
       "      <th>2014</th>\n",
       "      <td>759999787.0</td>\n",
       "      <td>47093.0</td>\n",
       "      <td>141909.0</td>\n",
       "      <td>283547.0</td>\n",
       "      <td>507028.0</td>\n",
       "    </tr>\n",
       "    <tr>\n",
       "      <th>2015</th>\n",
       "      <td>838254817.0</td>\n",
       "      <td>61180.0</td>\n",
       "      <td>147032.0</td>\n",
       "      <td>300360.0</td>\n",
       "      <td>537786.0</td>\n",
       "    </tr>\n",
       "    <tr>\n",
       "      <th>2016</th>\n",
       "      <td>908035557.0</td>\n",
       "      <td>66822.0</td>\n",
       "      <td>156401.0</td>\n",
       "      <td>308993.0</td>\n",
       "      <td>558159.0</td>\n",
       "    </tr>\n",
       "    <tr>\n",
       "      <th>2017</th>\n",
       "      <td>769928672.0</td>\n",
       "      <td>40572.0</td>\n",
       "      <td>117494.0</td>\n",
       "      <td>245726.0</td>\n",
       "      <td>442456.0</td>\n",
       "    </tr>\n",
       "    <tr>\n",
       "      <th>2018</th>\n",
       "      <td>641245125.0</td>\n",
       "      <td>45791.0</td>\n",
       "      <td>84614.0</td>\n",
       "      <td>191328.0</td>\n",
       "      <td>343863.0</td>\n",
       "    </tr>\n",
       "    <tr>\n",
       "      <th>2019</th>\n",
       "      <td>647648492.0</td>\n",
       "      <td>34353.0</td>\n",
       "      <td>79300.0</td>\n",
       "      <td>180489.0</td>\n",
       "      <td>324279.0</td>\n",
       "    </tr>\n",
       "  </tbody>\n",
       "</table>\n",
       "</div>"
      ],
      "text/plain": [
       "                  Total  Flu_OBS   Vom_OBS  Diarr_OBS  Gastro_OBS\n",
       "NS    year                                                       \n",
       "North 2014  719655399.0  31870.0  144469.0   279606.0    524322.0\n",
       "      2015  812875983.0  44352.0  155056.0   302202.0    555413.0\n",
       "      2016  852949550.0  48895.0  159742.0   307934.0    569276.0\n",
       "      2017  737539944.0  30220.0  122787.0   248197.0    462994.0\n",
       "      2018  607900399.0  46228.0   90951.0   194246.0    365863.0\n",
       "      2019  614454668.0  31826.0   87114.0   186457.0    357594.0\n",
       "South 2014  759999787.0  47093.0  141909.0   283547.0    507028.0\n",
       "      2015  838254817.0  61180.0  147032.0   300360.0    537786.0\n",
       "      2016  908035557.0  66822.0  156401.0   308993.0    558159.0\n",
       "      2017  769928672.0  40572.0  117494.0   245726.0    442456.0\n",
       "      2018  641245125.0  45791.0   84614.0   191328.0    343863.0\n",
       "      2019  647648492.0  34353.0   79300.0   180489.0    324279.0"
      ]
     },
     "execution_count": 30,
     "metadata": {},
     "output_type": "execute_result"
    }
   ],
   "source": [
    "# Either\n",
    "# inhoursNS[fields].groupby(by=['NS', 'year']).agg('sum')\n",
    "\n",
    "# Or\n",
    "aggNS = inhoursNS[fields].groupby(by=['NS', 'year']).agg(Total=('POP', sum), \n",
    "                                                         Flu_OBS=('Flu_OBS', sum), \n",
    "                                                         Vom_OBS=('Vom_OBS', sum), \n",
    "                                                         Diarr_OBS=('Diarr_OBS', sum), \n",
    "                                                         Gastro_OBS=('Gastro_OBS', sum))\n",
    "aggNS"
   ]
  },
  {
   "cell_type": "markdown",
   "id": "fb12d009-9727-4a17-aa61-46ce48dc1d84",
   "metadata": {},
   "source": [
    "<br>\n",
    "<br>\n",
    "\n",
    "### Consultation rates"
   ]
  },
  {
   "cell_type": "code",
   "execution_count": 31,
   "id": "df6f18c8-7644-4a00-bebc-3f67ff1e2ba9",
   "metadata": {},
   "outputs": [],
   "source": [
    "classes = ['Flu_OBS', 'Vom_OBS', 'Diarr_OBS', 'Gastro_OBS']\n",
    "rates =  100000 * np.true_divide(aggNS[classes], aggNS[['Total']])\n",
    "aggNS.loc[:, ['Flu_rate', 'Vom_rate', 'Diarr_rate', 'Gastro_rate']] = rates.to_numpy()"
   ]
  },
  {
   "cell_type": "code",
   "execution_count": 32,
   "id": "de710a89-1db5-4eb4-a436-7c507681957a",
   "metadata": {},
   "outputs": [
    {
     "data": {
      "text/html": [
       "<div>\n",
       "<style scoped>\n",
       "    .dataframe tbody tr th:only-of-type {\n",
       "        vertical-align: middle;\n",
       "    }\n",
       "\n",
       "    .dataframe tbody tr th {\n",
       "        vertical-align: top;\n",
       "    }\n",
       "\n",
       "    .dataframe thead th {\n",
       "        text-align: right;\n",
       "    }\n",
       "</style>\n",
       "<table border=\"1\" class=\"dataframe\">\n",
       "  <thead>\n",
       "    <tr style=\"text-align: right;\">\n",
       "      <th></th>\n",
       "      <th></th>\n",
       "      <th>Flu_rate</th>\n",
       "      <th>Vom_rate</th>\n",
       "      <th>Diarr_rate</th>\n",
       "      <th>Gastro_rate</th>\n",
       "    </tr>\n",
       "    <tr>\n",
       "      <th>NS</th>\n",
       "      <th>year</th>\n",
       "      <th></th>\n",
       "      <th></th>\n",
       "      <th></th>\n",
       "      <th></th>\n",
       "    </tr>\n",
       "  </thead>\n",
       "  <tbody>\n",
       "    <tr>\n",
       "      <th rowspan=\"6\" valign=\"top\">North</th>\n",
       "      <th>2014</th>\n",
       "      <td>4.428508</td>\n",
       "      <td>20.074747</td>\n",
       "      <td>38.852762</td>\n",
       "      <td>72.857370</td>\n",
       "    </tr>\n",
       "    <tr>\n",
       "      <th>2015</th>\n",
       "      <td>5.456183</td>\n",
       "      <td>19.074988</td>\n",
       "      <td>37.176889</td>\n",
       "      <td>68.326905</td>\n",
       "    </tr>\n",
       "    <tr>\n",
       "      <th>2016</th>\n",
       "      <td>5.732461</td>\n",
       "      <td>18.728189</td>\n",
       "      <td>36.102252</td>\n",
       "      <td>66.742048</td>\n",
       "    </tr>\n",
       "    <tr>\n",
       "      <th>2017</th>\n",
       "      <td>4.097405</td>\n",
       "      <td>16.648183</td>\n",
       "      <td>33.652008</td>\n",
       "      <td>62.775447</td>\n",
       "    </tr>\n",
       "    <tr>\n",
       "      <th>2018</th>\n",
       "      <td>7.604535</td>\n",
       "      <td>14.961497</td>\n",
       "      <td>31.953590</td>\n",
       "      <td>60.184695</td>\n",
       "    </tr>\n",
       "    <tr>\n",
       "      <th>2019</th>\n",
       "      <td>5.179552</td>\n",
       "      <td>14.177449</td>\n",
       "      <td>30.345119</td>\n",
       "      <td>58.196970</td>\n",
       "    </tr>\n",
       "    <tr>\n",
       "      <th rowspan=\"6\" valign=\"top\">South</th>\n",
       "      <th>2014</th>\n",
       "      <td>6.196449</td>\n",
       "      <td>18.672242</td>\n",
       "      <td>37.308826</td>\n",
       "      <td>66.714229</td>\n",
       "    </tr>\n",
       "    <tr>\n",
       "      <th>2015</th>\n",
       "      <td>7.298497</td>\n",
       "      <td>17.540251</td>\n",
       "      <td>35.831587</td>\n",
       "      <td>64.155432</td>\n",
       "    </tr>\n",
       "    <tr>\n",
       "      <th>2016</th>\n",
       "      <td>7.358963</td>\n",
       "      <td>17.224105</td>\n",
       "      <td>34.028734</td>\n",
       "      <td>61.468848</td>\n",
       "    </tr>\n",
       "    <tr>\n",
       "      <th>2017</th>\n",
       "      <td>5.269579</td>\n",
       "      <td>15.260375</td>\n",
       "      <td>31.915424</td>\n",
       "      <td>57.467142</td>\n",
       "    </tr>\n",
       "    <tr>\n",
       "      <th>2018</th>\n",
       "      <td>7.140951</td>\n",
       "      <td>13.195266</td>\n",
       "      <td>29.836952</td>\n",
       "      <td>53.624267</td>\n",
       "    </tr>\n",
       "    <tr>\n",
       "      <th>2019</th>\n",
       "      <td>5.304266</td>\n",
       "      <td>12.244296</td>\n",
       "      <td>27.868358</td>\n",
       "      <td>50.070216</td>\n",
       "    </tr>\n",
       "  </tbody>\n",
       "</table>\n",
       "</div>"
      ],
      "text/plain": [
       "            Flu_rate   Vom_rate  Diarr_rate  Gastro_rate\n",
       "NS    year                                              \n",
       "North 2014  4.428508  20.074747   38.852762    72.857370\n",
       "      2015  5.456183  19.074988   37.176889    68.326905\n",
       "      2016  5.732461  18.728189   36.102252    66.742048\n",
       "      2017  4.097405  16.648183   33.652008    62.775447\n",
       "      2018  7.604535  14.961497   31.953590    60.184695\n",
       "      2019  5.179552  14.177449   30.345119    58.196970\n",
       "South 2014  6.196449  18.672242   37.308826    66.714229\n",
       "      2015  7.298497  17.540251   35.831587    64.155432\n",
       "      2016  7.358963  17.224105   34.028734    61.468848\n",
       "      2017  5.269579  15.260375   31.915424    57.467142\n",
       "      2018  7.140951  13.195266   29.836952    53.624267\n",
       "      2019  5.304266  12.244296   27.868358    50.070216"
      ]
     },
     "execution_count": 32,
     "metadata": {},
     "output_type": "execute_result"
    }
   ],
   "source": [
    "aggNS[['Flu_rate', 'Vom_rate', 'Diarr_rate', 'Gastro_rate']]"
   ]
  },
  {
   "cell_type": "markdown",
   "id": "5ce04d7d-cbcf-4d28-ab00-628bca660358",
   "metadata": {},
   "source": [
    "<br>\n",
    "<br>\n",
    "\n",
    "### Plot the Rates"
   ]
  },
  {
   "cell_type": "code",
   "execution_count": 33,
   "id": "b74eff5b-c875-4277-a6af-e4f1ec4345e1",
   "metadata": {},
   "outputs": [
    {
     "data": {
      "text/html": [
       "<div>\n",
       "<style scoped>\n",
       "    .dataframe tbody tr th:only-of-type {\n",
       "        vertical-align: middle;\n",
       "    }\n",
       "\n",
       "    .dataframe tbody tr th {\n",
       "        vertical-align: top;\n",
       "    }\n",
       "\n",
       "    .dataframe thead th {\n",
       "        text-align: right;\n",
       "    }\n",
       "</style>\n",
       "<table border=\"1\" class=\"dataframe\">\n",
       "  <thead>\n",
       "    <tr style=\"text-align: right;\">\n",
       "      <th></th>\n",
       "      <th>NS</th>\n",
       "      <th>year</th>\n",
       "      <th>Total</th>\n",
       "      <th>Flu_OBS</th>\n",
       "      <th>Vom_OBS</th>\n",
       "      <th>Diarr_OBS</th>\n",
       "      <th>Gastro_OBS</th>\n",
       "      <th>Flu_rate</th>\n",
       "      <th>Vom_rate</th>\n",
       "      <th>Diarr_rate</th>\n",
       "      <th>Gastro_rate</th>\n",
       "    </tr>\n",
       "  </thead>\n",
       "  <tbody>\n",
       "    <tr>\n",
       "      <th>0</th>\n",
       "      <td>North</td>\n",
       "      <td>2014</td>\n",
       "      <td>719655399.0</td>\n",
       "      <td>31870.0</td>\n",
       "      <td>144469.0</td>\n",
       "      <td>279606.0</td>\n",
       "      <td>524322.0</td>\n",
       "      <td>4.428508</td>\n",
       "      <td>20.074747</td>\n",
       "      <td>38.852762</td>\n",
       "      <td>72.857370</td>\n",
       "    </tr>\n",
       "    <tr>\n",
       "      <th>1</th>\n",
       "      <td>North</td>\n",
       "      <td>2015</td>\n",
       "      <td>812875983.0</td>\n",
       "      <td>44352.0</td>\n",
       "      <td>155056.0</td>\n",
       "      <td>302202.0</td>\n",
       "      <td>555413.0</td>\n",
       "      <td>5.456183</td>\n",
       "      <td>19.074988</td>\n",
       "      <td>37.176889</td>\n",
       "      <td>68.326905</td>\n",
       "    </tr>\n",
       "    <tr>\n",
       "      <th>2</th>\n",
       "      <td>North</td>\n",
       "      <td>2016</td>\n",
       "      <td>852949550.0</td>\n",
       "      <td>48895.0</td>\n",
       "      <td>159742.0</td>\n",
       "      <td>307934.0</td>\n",
       "      <td>569276.0</td>\n",
       "      <td>5.732461</td>\n",
       "      <td>18.728189</td>\n",
       "      <td>36.102252</td>\n",
       "      <td>66.742048</td>\n",
       "    </tr>\n",
       "    <tr>\n",
       "      <th>3</th>\n",
       "      <td>North</td>\n",
       "      <td>2017</td>\n",
       "      <td>737539944.0</td>\n",
       "      <td>30220.0</td>\n",
       "      <td>122787.0</td>\n",
       "      <td>248197.0</td>\n",
       "      <td>462994.0</td>\n",
       "      <td>4.097405</td>\n",
       "      <td>16.648183</td>\n",
       "      <td>33.652008</td>\n",
       "      <td>62.775447</td>\n",
       "    </tr>\n",
       "    <tr>\n",
       "      <th>4</th>\n",
       "      <td>North</td>\n",
       "      <td>2018</td>\n",
       "      <td>607900399.0</td>\n",
       "      <td>46228.0</td>\n",
       "      <td>90951.0</td>\n",
       "      <td>194246.0</td>\n",
       "      <td>365863.0</td>\n",
       "      <td>7.604535</td>\n",
       "      <td>14.961497</td>\n",
       "      <td>31.953590</td>\n",
       "      <td>60.184695</td>\n",
       "    </tr>\n",
       "  </tbody>\n",
       "</table>\n",
       "</div>"
      ],
      "text/plain": [
       "      NS  year        Total  Flu_OBS   Vom_OBS  Diarr_OBS  Gastro_OBS  \\\n",
       "0  North  2014  719655399.0  31870.0  144469.0   279606.0    524322.0   \n",
       "1  North  2015  812875983.0  44352.0  155056.0   302202.0    555413.0   \n",
       "2  North  2016  852949550.0  48895.0  159742.0   307934.0    569276.0   \n",
       "3  North  2017  737539944.0  30220.0  122787.0   248197.0    462994.0   \n",
       "4  North  2018  607900399.0  46228.0   90951.0   194246.0    365863.0   \n",
       "\n",
       "   Flu_rate   Vom_rate  Diarr_rate  Gastro_rate  \n",
       "0  4.428508  20.074747   38.852762    72.857370  \n",
       "1  5.456183  19.074988   37.176889    68.326905  \n",
       "2  5.732461  18.728189   36.102252    66.742048  \n",
       "3  4.097405  16.648183   33.652008    62.775447  \n",
       "4  7.604535  14.961497   31.953590    60.184695  "
      ]
     },
     "execution_count": 33,
     "metadata": {},
     "output_type": "execute_result"
    }
   ],
   "source": [
    "aggNSTable = aggNS.reset_index()\n",
    "aggNSTable.head()"
   ]
  },
  {
   "cell_type": "code",
   "execution_count": 34,
   "id": "5129793e-eff9-47d0-8f3f-023dc1aebef0",
   "metadata": {},
   "outputs": [
    {
     "data": {
      "image/png": "[encoded data removed]",
      "text/plain": [
       "<Figure size 700x500 with 4 Axes>"
      ]
     },
     "metadata": {},
     "output_type": "display_data"
    }
   ],
   "source": [
    "sns.set(font_scale=0.9)\n",
    "fig, axes = plt.subplots(nrows=2, ncols=2, figsize=(7, 5))\n",
    "\n",
    "plt.subplots_adjust(left=0.20, bottom=0.2, right=0.9, top=0.9, hspace=0.5, wspace=0.5)\n",
    "\n",
    "g = sns.lineplot(x='year', y='Flu_rate', hue='NS', data=aggNSTable, ax=axes[0, 0])\n",
    "g.legend(title='Flu', loc='center left')\n",
    "g.set_xlabel('')\n",
    "\n",
    "g = sns.lineplot(x='year', y='Vom_rate', hue='NS', data=aggNSTable, ax=axes[0, 1])\n",
    "g.legend(title='Vom')\n",
    "g.set_xlabel('')\n",
    "\n",
    "sns.lineplot(x='year', y='Diarr_rate', hue='NS', data=aggNSTable, ax=axes[1, 0]);\n",
    "sns.lineplot(x='year', y='Gastro_rate', hue='NS', data=aggNSTable, ax=axes[1, 1]);\n"
   ]
  },
  {
   "cell_type": "markdown",
   "id": "8a314db0-e4fc-4080-9fb2-c39fb1087149",
   "metadata": {},
   "source": [
    "<br>\n",
    "<br>\n",
    "\n",
    "## Influenza Data"
   ]
  },
  {
   "cell_type": "markdown",
   "id": "081ed76f-3d16-4266-afab-2629cd35d5fa",
   "metadata": {},
   "source": [
    "\n",
    "### Grouping and aggregating"
   ]
  },
  {
   "cell_type": "markdown",
   "id": "cd98dbed-6cb4-4540-b972-921812123352",
   "metadata": {},
   "source": [
    "The total populations and total influenza consultations per data"
   ]
  },
  {
   "cell_type": "code",
   "execution_count": 35,
   "id": "26539e8b-6bae-4012-9e56-2fd38c27dd76",
   "metadata": {},
   "outputs": [],
   "source": [
    "flu = inhours.groupby(by='date').agg(Total=('POP', sum), Flu_OBS=('Flu_OBS', sum))"
   ]
  },
  {
   "cell_type": "markdown",
   "id": "85853457-1f4b-4f80-953d-8c201b596b6c",
   "metadata": {},
   "source": [
    "<br>\n",
    "\n",
    "### Compute rates"
   ]
  },
  {
   "cell_type": "markdown",
   "id": "7f698b57-9d52-45a0-8761-d046adf15b0f",
   "metadata": {},
   "source": [
    "The influenza consultation rate per 100,000"
   ]
  },
  {
   "cell_type": "code",
   "execution_count": 36,
   "id": "876f19a2-5c3b-4969-8b2a-5f30fc0d2239",
   "metadata": {},
   "outputs": [],
   "source": [
    "flu.loc[:, 'Flu_rate'] = 100000 * np.true_divide(flu.Flu_OBS, flu.Total)"
   ]
  },
  {
   "cell_type": "markdown",
   "id": "20ad398e-38aa-4b0f-9a76-540f39628b6c",
   "metadata": {},
   "source": [
    "<br>\n",
    "\n",
    "Each date's year"
   ]
  },
  {
   "cell_type": "code",
   "execution_count": 37,
   "id": "b8d95381-3f0e-4969-bd96-5f7984f9452f",
   "metadata": {},
   "outputs": [],
   "source": [
    "flu.loc[:, 'year'] = flu.index.year.values"
   ]
  },
  {
   "cell_type": "markdown",
   "id": "b9ad31d8-eb5d-4730-920a-9286cbe2454c",
   "metadata": {},
   "source": [
    "<br>\n",
    "\n",
    "Finally"
   ]
  },
  {
   "cell_type": "code",
   "execution_count": 38,
   "id": "c2cb62a8-bfd7-4a41-b524-87f41f1b4f46",
   "metadata": {},
   "outputs": [
    {
     "data": {
      "text/html": [
       "<div>\n",
       "<style scoped>\n",
       "    .dataframe tbody tr th:only-of-type {\n",
       "        vertical-align: middle;\n",
       "    }\n",
       "\n",
       "    .dataframe tbody tr th {\n",
       "        vertical-align: top;\n",
       "    }\n",
       "\n",
       "    .dataframe thead th {\n",
       "        text-align: right;\n",
       "    }\n",
       "</style>\n",
       "<table border=\"1\" class=\"dataframe\">\n",
       "  <thead>\n",
       "    <tr style=\"text-align: right;\">\n",
       "      <th></th>\n",
       "      <th>Total</th>\n",
       "      <th>Flu_OBS</th>\n",
       "      <th>Flu_rate</th>\n",
       "      <th>year</th>\n",
       "    </tr>\n",
       "    <tr>\n",
       "      <th>date</th>\n",
       "      <th></th>\n",
       "      <th></th>\n",
       "      <th></th>\n",
       "      <th></th>\n",
       "    </tr>\n",
       "  </thead>\n",
       "  <tbody>\n",
       "    <tr>\n",
       "      <th>2014-01-05</th>\n",
       "      <td>28607373.0</td>\n",
       "      <td>2264.0</td>\n",
       "      <td>7.914044</td>\n",
       "      <td>2014</td>\n",
       "    </tr>\n",
       "    <tr>\n",
       "      <th>2014-01-12</th>\n",
       "      <td>29197811.0</td>\n",
       "      <td>2789.0</td>\n",
       "      <td>9.552086</td>\n",
       "      <td>2014</td>\n",
       "    </tr>\n",
       "    <tr>\n",
       "      <th>2014-01-19</th>\n",
       "      <td>29350395.0</td>\n",
       "      <td>2236.0</td>\n",
       "      <td>7.618296</td>\n",
       "      <td>2014</td>\n",
       "    </tr>\n",
       "    <tr>\n",
       "      <th>2014-01-26</th>\n",
       "      <td>28766178.0</td>\n",
       "      <td>1990.0</td>\n",
       "      <td>6.917846</td>\n",
       "      <td>2014</td>\n",
       "    </tr>\n",
       "    <tr>\n",
       "      <th>2014-02-02</th>\n",
       "      <td>29268260.0</td>\n",
       "      <td>2419.0</td>\n",
       "      <td>8.264926</td>\n",
       "      <td>2014</td>\n",
       "    </tr>\n",
       "    <tr>\n",
       "      <th>...</th>\n",
       "      <td>...</td>\n",
       "      <td>...</td>\n",
       "      <td>...</td>\n",
       "      <td>...</td>\n",
       "    </tr>\n",
       "    <tr>\n",
       "      <th>2019-12-01</th>\n",
       "      <td>22565354.0</td>\n",
       "      <td>1866.0</td>\n",
       "      <td>8.269314</td>\n",
       "      <td>2019</td>\n",
       "    </tr>\n",
       "    <tr>\n",
       "      <th>2019-12-08</th>\n",
       "      <td>23279755.0</td>\n",
       "      <td>2378.0</td>\n",
       "      <td>10.214884</td>\n",
       "      <td>2019</td>\n",
       "    </tr>\n",
       "    <tr>\n",
       "      <th>2019-12-15</th>\n",
       "      <td>26375563.0</td>\n",
       "      <td>3687.0</td>\n",
       "      <td>13.978849</td>\n",
       "      <td>2019</td>\n",
       "    </tr>\n",
       "    <tr>\n",
       "      <th>2019-12-22</th>\n",
       "      <td>27625895.0</td>\n",
       "      <td>4271.0</td>\n",
       "      <td>15.460133</td>\n",
       "      <td>2019</td>\n",
       "    </tr>\n",
       "    <tr>\n",
       "      <th>2019-12-28</th>\n",
       "      <td>39813063.0</td>\n",
       "      <td>3963.0</td>\n",
       "      <td>9.954019</td>\n",
       "      <td>2019</td>\n",
       "    </tr>\n",
       "  </tbody>\n",
       "</table>\n",
       "<p>312 rows × 4 columns</p>\n",
       "</div>"
      ],
      "text/plain": [
       "                 Total  Flu_OBS   Flu_rate  year\n",
       "date                                            \n",
       "2014-01-05  28607373.0   2264.0   7.914044  2014\n",
       "2014-01-12  29197811.0   2789.0   9.552086  2014\n",
       "2014-01-19  29350395.0   2236.0   7.618296  2014\n",
       "2014-01-26  28766178.0   1990.0   6.917846  2014\n",
       "2014-02-02  29268260.0   2419.0   8.264926  2014\n",
       "...                ...      ...        ...   ...\n",
       "2019-12-01  22565354.0   1866.0   8.269314  2019\n",
       "2019-12-08  23279755.0   2378.0  10.214884  2019\n",
       "2019-12-15  26375563.0   3687.0  13.978849  2019\n",
       "2019-12-22  27625895.0   4271.0  15.460133  2019\n",
       "2019-12-28  39813063.0   3963.0   9.954019  2019\n",
       "\n",
       "[312 rows x 4 columns]"
      ]
     },
     "execution_count": 38,
     "metadata": {},
     "output_type": "execute_result"
    }
   ],
   "source": [
    "flu"
   ]
  },
  {
   "cell_type": "markdown",
   "id": "fddec4ca-3315-44ca-9a5d-125f25c5d5e4",
   "metadata": {},
   "source": [
    "<br>\n",
    "<br>\n",
    "\n",
    "### Plot National Weekly Rates"
   ]
  },
  {
   "cell_type": "code",
   "execution_count": 39,
   "id": "b0dfd0b8-5b4b-4311-9c6b-9fca2ac98cbb",
   "metadata": {},
   "outputs": [
    {
     "data": {
      "image/png": "[encoded data removed]",
      "text/plain": [
       "<Figure size 410x260 with 1 Axes>"
      ]
     },
     "metadata": {},
     "output_type": "display_data"
    }
   ],
   "source": [
    "flu.plot(y='Flu_rate', kind='line', figsize=(4.1, 2.6), \n",
    "         xlabel='', ylabel='influenza rate', title='\\nNational Weekly Influenza Rates\\n')\n",
    "plt.xticks(rotation=90);\n",
    "plt.legend(labels=['influenza rate']).set_visible(False);"
   ]
  },
  {
   "cell_type": "markdown",
   "id": "7f97579b-a9f4-43ee-b628-1cafa3d98666",
   "metadata": {},
   "source": [
    "<br>\n",
    "<br>\n",
    "\n",
    "## Season Start Detection"
   ]
  },
  {
   "cell_type": "markdown",
   "id": "176e0115-5be4-40cf-9c52-ab258c7a130c",
   "metadata": {},
   "source": [
    "\n",
    "### Finding the minimum"
   ]
  },
  {
   "cell_type": "markdown",
   "id": "2987ebbf-8a4e-441f-8b90-374abfa55e70",
   "metadata": {},
   "source": [
    "<br>\n",
    "\n",
    "The `when_min` function, which returns the index of the minimum value of a series - the last occurrence of the minimum value."
   ]
  },
  {
   "cell_type": "code",
   "execution_count": 40,
   "id": "4902d165-c33d-4709-92e3-53054bf3c02c",
   "metadata": {},
   "outputs": [],
   "source": [
    "def when_min(x: pd.Series):\n",
    "    \"\"\"\n",
    "    \n",
    "    :param x: a time series whose index is a date index\n",
    "    :return: the last occurrence of the minimum value of a series\n",
    "    \"\"\"\n",
    "    \n",
    "    return x.where(x==x.min()).last_valid_index()"
   ]
  },
  {
   "cell_type": "markdown",
   "id": "efd98084-2579-4f01-aba2-a3b7b6dccda1",
   "metadata": {},
   "source": [
    "<br>\n",
    "\n",
    "Re-ascertaining that the index is sorted in ascending order."
   ]
  },
  {
   "cell_type": "code",
   "execution_count": 41,
   "id": "c550fc4d-8f25-4d44-98a8-1da0234aa439",
   "metadata": {},
   "outputs": [],
   "source": [
    "flu.sort_index(inplace = True)"
   ]
  },
  {
   "cell_type": "markdown",
   "id": "491f7b8d-898d-497c-b1c2-bed650f49a86",
   "metadata": {},
   "source": [
    "<br>\n",
    "\n",
    "Hence, the date of each year's minimum value"
   ]
  },
  {
   "cell_type": "code",
   "execution_count": 42,
   "id": "b07fc2ae-0eff-489d-bd5c-b63eb9240c98",
   "metadata": {},
   "outputs": [
    {
     "data": {
      "text/html": [
       "<div>\n",
       "<style scoped>\n",
       "    .dataframe tbody tr th:only-of-type {\n",
       "        vertical-align: middle;\n",
       "    }\n",
       "\n",
       "    .dataframe tbody tr th {\n",
       "        vertical-align: top;\n",
       "    }\n",
       "\n",
       "    .dataframe thead th {\n",
       "        text-align: right;\n",
       "    }\n",
       "</style>\n",
       "<table border=\"1\" class=\"dataframe\">\n",
       "  <thead>\n",
       "    <tr style=\"text-align: right;\">\n",
       "      <th></th>\n",
       "      <th>Minimum_value_date</th>\n",
       "    </tr>\n",
       "    <tr>\n",
       "      <th>year</th>\n",
       "      <th></th>\n",
       "    </tr>\n",
       "  </thead>\n",
       "  <tbody>\n",
       "    <tr>\n",
       "      <th>2014</th>\n",
       "      <td>2014-05-11</td>\n",
       "    </tr>\n",
       "    <tr>\n",
       "      <th>2015</th>\n",
       "      <td>2015-07-12</td>\n",
       "    </tr>\n",
       "    <tr>\n",
       "      <th>2016</th>\n",
       "      <td>2016-09-04</td>\n",
       "    </tr>\n",
       "    <tr>\n",
       "      <th>2017</th>\n",
       "      <td>2017-06-25</td>\n",
       "    </tr>\n",
       "    <tr>\n",
       "      <th>2018</th>\n",
       "      <td>2018-07-29</td>\n",
       "    </tr>\n",
       "    <tr>\n",
       "      <th>2019</th>\n",
       "      <td>2019-07-28</td>\n",
       "    </tr>\n",
       "  </tbody>\n",
       "</table>\n",
       "</div>"
      ],
      "text/plain": [
       "     Minimum_value_date\n",
       "year                   \n",
       "2014         2014-05-11\n",
       "2015         2015-07-12\n",
       "2016         2016-09-04\n",
       "2017         2017-06-25\n",
       "2018         2018-07-29\n",
       "2019         2019-07-28"
      ]
     },
     "execution_count": 42,
     "metadata": {},
     "output_type": "execute_result"
    }
   ],
   "source": [
    "minimum_value_dates = flu.groupby(by='year').agg(Minimum_value_date=('Flu_rate', when_min))\n",
    "minimum_value_dates"
   ]
  },
  {
   "cell_type": "markdown",
   "id": "e23735cd-bb3c-4ae9-9c4b-b92afd3e6a6e",
   "metadata": {},
   "source": [
    "<br>\n",
    "<br>\n",
    "\n",
    "### Simple Season Start Detection"
   ]
  },
  {
   "cell_type": "code",
   "execution_count": 43,
   "id": "5f5cae76-fde8-4817-89a3-a235954582a2",
   "metadata": {},
   "outputs": [],
   "source": [
    "def season_start(x: pd.Series):\n",
    "    \"\"\"\n",
    "    \n",
    "    :param x: a time series whose index is a date index\n",
    "    :return: the first time a value beyond the minimum point exceeds (2 * minimum point value)\n",
    "    \"\"\"\n",
    "    \n",
    "    # the index of the minimum point of x - last occurence\n",
    "    minimum_point_index = when_min(x = x)\n",
    "    \n",
    "    # the minimum point value\n",
    "    minimum_point_value = x[minimum_point_index]\n",
    "    \n",
    "    # the values of x beyond the minim point\n",
    "    beyond_minimum_point = x.iloc[ x.index > minimum_point_index ]\n",
    "    \n",
    "    # the indices beyond the minimum point that have values > (2 * minimum point value)\n",
    "    indices = beyond_minimum_point.index[beyond_minimum_point > 2 * minimum_point_value]\n",
    "    \n",
    "    # the first time a value beyond the minimum point exceeds (2 * minimum point value)\n",
    "    return indices.min()    \n",
    "    \n",
    "    "
   ]
  },
  {
   "cell_type": "code",
   "execution_count": 44,
   "id": "e82a2fad-a729-4d51-bc75-9999e922c665",
   "metadata": {},
   "outputs": [
    {
     "data": {
      "text/html": [
       "<div>\n",
       "<style scoped>\n",
       "    .dataframe tbody tr th:only-of-type {\n",
       "        vertical-align: middle;\n",
       "    }\n",
       "\n",
       "    .dataframe tbody tr th {\n",
       "        vertical-align: top;\n",
       "    }\n",
       "\n",
       "    .dataframe thead th {\n",
       "        text-align: right;\n",
       "    }\n",
       "</style>\n",
       "<table border=\"1\" class=\"dataframe\">\n",
       "  <thead>\n",
       "    <tr style=\"text-align: right;\">\n",
       "      <th></th>\n",
       "      <th>Season_start</th>\n",
       "    </tr>\n",
       "    <tr>\n",
       "      <th>year</th>\n",
       "      <th></th>\n",
       "    </tr>\n",
       "  </thead>\n",
       "  <tbody>\n",
       "    <tr>\n",
       "      <th>2014</th>\n",
       "      <td>2014-05-18</td>\n",
       "    </tr>\n",
       "    <tr>\n",
       "      <th>2015</th>\n",
       "      <td>2015-09-20</td>\n",
       "    </tr>\n",
       "    <tr>\n",
       "      <th>2016</th>\n",
       "      <td>2016-09-25</td>\n",
       "    </tr>\n",
       "    <tr>\n",
       "      <th>2017</th>\n",
       "      <td>2017-09-24</td>\n",
       "    </tr>\n",
       "    <tr>\n",
       "      <th>2018</th>\n",
       "      <td>2018-09-09</td>\n",
       "    </tr>\n",
       "    <tr>\n",
       "      <th>2019</th>\n",
       "      <td>2019-09-08</td>\n",
       "    </tr>\n",
       "  </tbody>\n",
       "</table>\n",
       "</div>"
      ],
      "text/plain": [
       "     Season_start\n",
       "year             \n",
       "2014   2014-05-18\n",
       "2015   2015-09-20\n",
       "2016   2016-09-25\n",
       "2017   2017-09-24\n",
       "2018   2018-09-09\n",
       "2019   2019-09-08"
      ]
     },
     "execution_count": 44,
     "metadata": {},
     "output_type": "execute_result"
    }
   ],
   "source": [
    "season_start_dates = flu.groupby(by='year').agg(Season_start=('Flu_rate', season_start))\n",
    "season_start_dates"
   ]
  },
  {
   "cell_type": "markdown",
   "id": "c47beab4-0b7f-4fd5-aff5-20b2eec2eccf",
   "metadata": {},
   "source": [
    "<br>\n",
    "<br>\n",
    "\n",
    "### Plot Data with Minima & Season Starts"
   ]
  },
  {
   "cell_type": "markdown",
   "id": "c4238c6d-b336-499e-88ca-65a35bf2ae4f",
   "metadata": {},
   "source": [
    "<br>\n",
    "\n",
    "**The minima**:  The `y` values are set to $1.5$ so that the minimum point markers point down onto the time series."
   ]
  },
  {
   "cell_type": "code",
   "execution_count": 45,
   "id": "31fd9c7e-1fae-4249-8ea7-abde0f3b3de5",
   "metadata": {},
   "outputs": [
    {
     "name": "stderr",
     "output_type": "stream",
     "text": [
      "\n",
      "     Minimum_value_date    y\n",
      "year                        \n",
      "2014         2014-05-11  1.5\n",
      "2015         2015-07-12  1.5\n",
      "2016         2016-09-04  1.5\n",
      "2017         2017-06-25  1.5\n",
      "2018         2018-07-29  1.5\n",
      "2019         2019-07-28  1.5\n",
      "2021-12-20 11:59:53\n",
      ".568\n"
     ]
    }
   ],
   "source": [
    "minima = minimum_value_dates.copy()\n",
    "minima.loc[:, 'y'] = 1.5 * np.ones(minimum_value_dates.shape)\n",
    "logger.info(minima)"
   ]
  },
  {
   "cell_type": "markdown",
   "id": "67d91d59-9de9-49f8-bc4d-b4e252ed177e",
   "metadata": {},
   "source": [
    "<br>\n",
    "\n",
    "**The starts**"
   ]
  },
  {
   "cell_type": "code",
   "execution_count": 46,
   "id": "8c4c1480-87f9-4a20-9cd7-a2b82eb09397",
   "metadata": {},
   "outputs": [
    {
     "name": "stderr",
     "output_type": "stream",
     "text": [
      "\n",
      "     Season_start    y\n",
      "year                  \n",
      "2014   2014-05-18  0.0\n",
      "2015   2015-09-20  0.0\n",
      "2016   2016-09-25  0.0\n",
      "2017   2017-09-24  0.0\n",
      "2018   2018-09-09  0.0\n",
      "2019   2019-09-08  0.0\n",
      "2021-12-20 11:59:53\n",
      ".580\n"
     ]
    }
   ],
   "source": [
    "starts = season_start_dates.copy()\n",
    "starts.loc[:, 'y'] = np.zeros(season_start_dates.shape)\n",
    "logger.info(starts)"
   ]
  },
  {
   "cell_type": "markdown",
   "id": "966e6c32-3cc3-492f-9ec3-f2b9ed5e2155",
   "metadata": {},
   "source": [
    "<br>\n",
    "\n",
    "**The graph**"
   ]
  },
  {
   "cell_type": "code",
   "execution_count": 47,
   "id": "1bf09735-e747-4664-8544-c4e4979d80bc",
   "metadata": {},
   "outputs": [
    {
     "data": {
      "image/png": "[encoded data removed]",
      "text/plain": [
       "<Figure size 490x290 with 1 Axes>"
      ]
     },
     "metadata": {},
     "output_type": "display_data"
    }
   ],
   "source": [
    "fig = plt.figure(figsize=(4.9, 2.9))\n",
    "handle = fig.gca()\n",
    "handle.tick_params(axis='both', labelsize='small')\n",
    "\n",
    "handle.plot(flu.index, flu.Flu_rate, color='dodgerblue', linewidth=1, label='Influenza rate per 100K');\n",
    "handle.plot(minima.Minimum_value_date, minima.y , marker='v', mfc='r', mew=0, markersize=6, alpha=0.5, linewidth=0, label='Minimum');\n",
    "handle.plot(starts.Season_start, starts.y, marker='^', mfc='b', mew=0, markersize=6, alpha=0.5,  linewidth=0, label='Start');\n",
    "\n",
    "plt.xticks(rotation=90)\n",
    "\n",
    "handle.legend(loc='upper left', fontsize='small');"
   ]
  },
  {
   "cell_type": "markdown",
   "id": "2532a733-c744-4c71-aa2e-1e79c69ddfd2",
   "metadata": {},
   "source": [
    "<br>\n",
    "<br>\n",
    "\n",
    "### Smoothing"
   ]
  },
  {
   "cell_type": "markdown",
   "id": "26131b08-3357-4bdd-9bb1-e3dd084d4430",
   "metadata": {},
   "source": [
    "<br>\n",
    "\n",
    "The rolling means"
   ]
  },
  {
   "cell_type": "code",
   "execution_count": 58,
   "id": "3ce55ed5-a5cc-4972-b248-0bdbc8c2878c",
   "metadata": {},
   "outputs": [
    {
     "name": "stderr",
     "output_type": "stream",
     "text": [
      "\n",
      "                 Total  Flu_OBS  Flu_rate  year  Flu_rate_rm_4\n",
      "date                                                          \n",
      "2014-01-05  28607373.0   2264.0  7.914044  2014            NaN\n",
      "2014-01-12  29197811.0   2789.0  9.552086  2014            NaN\n",
      "2014-01-19  29350395.0   2236.0  7.618296  2014            NaN\n",
      "2014-01-26  28766178.0   1990.0  6.917846  2014       8.000568\n",
      "2014-02-02  29268260.0   2419.0  8.264926  2014       8.088289\n",
      "2021-12-20 12:18:09\n",
      ".147\n"
     ]
    }
   ],
   "source": [
    "flu.loc[:, 'Flu_rate_rm_4'] = flu.Flu_rate.rolling(window=4).mean()\n",
    "logger.info(flu.head())"
   ]
  },
  {
   "cell_type": "markdown",
   "id": "d9edd32c-62f2-4005-891b-a940bef17fd9",
   "metadata": {},
   "source": [
    "<br>\n",
    "\n",
    "The graph"
   ]
  },
  {
   "cell_type": "code",
   "execution_count": 57,
   "id": "b007a3f2-f2b9-45fa-9d0c-7ffb47fa0f07",
   "metadata": {},
   "outputs": [
    {
     "data": {
      "image/png": "[encoded data removed]",
      "text/plain": [
       "<Figure size 490x290 with 1 Axes>"
      ]
     },
     "metadata": {},
     "output_type": "display_data"
    }
   ],
   "source": [
    "fig = plt.figure(figsize=(4.9, 2.9))\n",
    "handle = fig.gca()\n",
    "handle.tick_params(axis='both', labelsize='small')\n",
    "\n",
    "handle.plot(flu.index, flu.Flu_rate, color='dodgerblue', alpha = 0.80, linewidth=3, label='Flu Consultations per 100K (raw)');\n",
    "handle.plot(flu.index, flu.Flu_rate_rm_4, color='red', alpha=0.95, linewidth=1, label='Flu Consultations per 100K (smoothed)');\n",
    "\n",
    "plt.xticks(rotation=90)\n",
    "\n",
    "handle.legend(loc='upper left', fontsize='small');"
   ]
  }
 ],
 "metadata": {
  "kernelspec": {
   "display_name": "Python 3 (ipykernel)",
   "language": "python",
   "name": "python3"
  },
  "language_info": {
   "codemirror_mode": {
    "name": "ipython",
    "version": 3
   },
   "file_extension": ".py",
   "mimetype": "text/x-python",
   "name": "python",
   "nbconvert_exporter": "python",
   "pygments_lexer": "ipython3",
   "version": "3.7.11"
  }
 },
 "nbformat": 4,
 "nbformat_minor": 5
}
