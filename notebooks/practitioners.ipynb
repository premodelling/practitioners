{
 "cells": [
  {
   "cell_type": "code",
   "execution_count": 1,
   "id": "e780cbe3-19cb-461a-9fa3-badc1b423f6a",
   "metadata": {},
   "outputs": [],
   "source": [
    "import sqlite3"
   ]
  },
  {
   "cell_type": "code",
   "execution_count": 10,
   "id": "17ffcb95-1b37-4f7b-a8d4-33878e5b09f8",
   "metadata": {},
   "outputs": [],
   "source": [
    "import pandas as pd"
   ]
  },
  {
   "cell_type": "code",
   "execution_count": 29,
   "id": "94120148-c11f-4a30-b88a-c2b58876eab6",
   "metadata": {},
   "outputs": [],
   "source": [
    "import numpy as np"
   ]
  },
  {
   "cell_type": "markdown",
   "id": "ad331bc2-f3fe-41c3-a063-11b5a15dd3e6",
   "metadata": {},
   "source": [
    "<br>\n",
    "<br>\n",
    "\n",
    "### Database"
   ]
  },
  {
   "cell_type": "code",
   "execution_count": 2,
   "id": "97f9cbb2-d28e-482c-b78c-db75bc77c938",
   "metadata": {},
   "outputs": [],
   "source": [
    "class SQLITE:\n",
    "\n",
    "    def __init__(self):\n",
    "        \"\"\"\n",
    "        \n",
    "        \"\"\"\n",
    "\n",
    "    def connecting(self, databaseuri: str):\n",
    "        \"\"\"\n",
    "        \n",
    "        :param databaseuri: The URI of a '.db' database file\n",
    "        \"\"\"\n",
    "\n",
    "        connection = None\n",
    "\n",
    "        try:\n",
    "            connection = sqlite3.connect(databaseuri)\n",
    "        except ConnectionError as err:\n",
    "            raise Exception(err.strerror) in err\n",
    "\n",
    "        return connection"
   ]
  },
  {
   "cell_type": "code",
   "execution_count": 3,
   "id": "514eb23a-b0e4-4c4f-90c1-61f04e0e34c6",
   "metadata": {},
   "outputs": [],
   "source": [
    "sqlite = SQLITE()"
   ]
  },
  {
   "cell_type": "code",
   "execution_count": 4,
   "id": "f1b06230-4ce1-4d87-b95c-1def70ee1e3c",
   "metadata": {},
   "outputs": [],
   "source": [
    "connection = sqlite.connecting(databaseuri='../data/gpinhours.sqlite')"
   ]
  },
  {
   "cell_type": "code",
   "execution_count": 5,
   "id": "0dddd9de-eb55-44a3-bcb3-a9911a5e7270",
   "metadata": {},
   "outputs": [],
   "source": [
    "c = connection.cursor()"
   ]
  },
  {
   "cell_type": "code",
   "execution_count": 6,
   "id": "cbdcdffa-b185-4a0b-8d05-2c3fcded7781",
   "metadata": {},
   "outputs": [],
   "source": [
    "inhours = c.execute('SELECT * FROM inhours').fetchall()"
   ]
  },
  {
   "cell_type": "code",
   "execution_count": 11,
   "id": "ee7f77c6-f00b-4246-929c-3c1ac190f940",
   "metadata": {},
   "outputs": [],
   "source": [
    "tables = c.execute(\"SELECT name FROM sqlite_schema WHERE type = 'table'\").fetchall()"
   ]
  },
  {
   "cell_type": "code",
   "execution_count": 12,
   "id": "9eb999d3-dedb-4bd5-8bb9-9d9185db83d2",
   "metadata": {},
   "outputs": [],
   "source": [
    "c.close()"
   ]
  },
  {
   "cell_type": "code",
   "execution_count": 13,
   "id": "bbe81417-0f98-4bed-81fe-afbbad498751",
   "metadata": {},
   "outputs": [],
   "source": [
    "connection.close()"
   ]
  },
  {
   "cell_type": "markdown",
   "id": "197d84b6-eaa0-4ac1-b46f-c13997f397f0",
   "metadata": {},
   "source": [
    "<br>\n",
    "\n",
    "Or"
   ]
  },
  {
   "cell_type": "code",
   "execution_count": 20,
   "id": "4c4406cf-adc4-43be-ba2b-f222d946702b",
   "metadata": {},
   "outputs": [],
   "source": [
    "connection = sqlite.connecting(databaseuri='../data/gpinhours.sqlite')\n",
    "query = 'SELECT * FROM inhours'\n",
    "inhours = pd.read_sql_query(query, connection)\n",
    "connection.close()"
   ]
  },
  {
   "cell_type": "code",
   "execution_count": 21,
   "id": "a198d150-9742-4d42-9bf6-5512661b70de",
   "metadata": {},
   "outputs": [
    {
     "name": "stdout",
     "output_type": "stream",
     "text": [
      "<class 'pandas.core.frame.DataFrame'>\n",
      "RangeIndex: 47084 entries, 0 to 47083\n",
      "Data columns (total 9 columns):\n",
      " #   Column      Non-Null Count  Dtype  \n",
      "---  ------      --------------  -----  \n",
      " 0   CODE        47084 non-null  object \n",
      " 1   NAME        47084 non-null  object \n",
      " 2   TOTAL_POP   46862 non-null  object \n",
      " 3   Flu_OBS     46669 non-null  float64\n",
      " 4   Vom_OBS     46672 non-null  float64\n",
      " 5   Diarr_OBS   46672 non-null  float64\n",
      " 6   Gastro_OBS  46757 non-null  float64\n",
      " 7   lastdate    47084 non-null  float64\n",
      " 8   week        47084 non-null  float64\n",
      "dtypes: float64(6), object(3)\n",
      "memory usage: 3.2+ MB\n"
     ]
    }
   ],
   "source": [
    "inhours.info()"
   ]
  },
  {
   "cell_type": "markdown",
   "id": "5f25ffaf-a1e8-448c-8b8d-39961f22ba6f",
   "metadata": {},
   "source": [
    "<br>\n",
    "<br>\n",
    "\n",
    "## Data Cleaning"
   ]
  },
  {
   "cell_type": "code",
   "execution_count": 22,
   "id": "f2573351-386c-42f9-92a6-bfeb49886cac",
   "metadata": {},
   "outputs": [
    {
     "data": {
      "text/html": [
       "<div>\n",
       "<style scoped>\n",
       "    .dataframe tbody tr th:only-of-type {\n",
       "        vertical-align: middle;\n",
       "    }\n",
       "\n",
       "    .dataframe tbody tr th {\n",
       "        vertical-align: top;\n",
       "    }\n",
       "\n",
       "    .dataframe thead th {\n",
       "        text-align: right;\n",
       "    }\n",
       "</style>\n",
       "<table border=\"1\" class=\"dataframe\">\n",
       "  <thead>\n",
       "    <tr style=\"text-align: right;\">\n",
       "      <th></th>\n",
       "      <th>CODE</th>\n",
       "      <th>NAME</th>\n",
       "      <th>TOTAL_POP</th>\n",
       "      <th>Flu_OBS</th>\n",
       "      <th>Vom_OBS</th>\n",
       "      <th>Diarr_OBS</th>\n",
       "      <th>Gastro_OBS</th>\n",
       "      <th>lastdate</th>\n",
       "      <th>week</th>\n",
       "    </tr>\n",
       "  </thead>\n",
       "  <tbody>\n",
       "    <tr>\n",
       "      <th>0</th>\n",
       "      <td>E09000002</td>\n",
       "      <td>Barking and Dagenham</td>\n",
       "      <td>63009</td>\n",
       "      <td>1.0</td>\n",
       "      <td>13.0</td>\n",
       "      <td>9.0</td>\n",
       "      <td>33.0</td>\n",
       "      <td>17741.0</td>\n",
       "      <td>30.0</td>\n",
       "    </tr>\n",
       "    <tr>\n",
       "      <th>1</th>\n",
       "      <td>E09000003</td>\n",
       "      <td>Barnet</td>\n",
       "      <td>225813</td>\n",
       "      <td>1.0</td>\n",
       "      <td>40.0</td>\n",
       "      <td>101.0</td>\n",
       "      <td>148.0</td>\n",
       "      <td>17741.0</td>\n",
       "      <td>30.0</td>\n",
       "    </tr>\n",
       "    <tr>\n",
       "      <th>2</th>\n",
       "      <td>E09000004</td>\n",
       "      <td>Bexley</td>\n",
       "      <td>46339</td>\n",
       "      <td>1.0</td>\n",
       "      <td>11.0</td>\n",
       "      <td>12.0</td>\n",
       "      <td>24.0</td>\n",
       "      <td>17741.0</td>\n",
       "      <td>30.0</td>\n",
       "    </tr>\n",
       "    <tr>\n",
       "      <th>3</th>\n",
       "      <td>E09000005</td>\n",
       "      <td>Brent</td>\n",
       "      <td>178399</td>\n",
       "      <td>1.0</td>\n",
       "      <td>43.0</td>\n",
       "      <td>57.0</td>\n",
       "      <td>97.0</td>\n",
       "      <td>17741.0</td>\n",
       "      <td>30.0</td>\n",
       "    </tr>\n",
       "    <tr>\n",
       "      <th>4</th>\n",
       "      <td>E09000006</td>\n",
       "      <td>Bromley</td>\n",
       "      <td>168381</td>\n",
       "      <td>0.0</td>\n",
       "      <td>19.0</td>\n",
       "      <td>43.0</td>\n",
       "      <td>79.0</td>\n",
       "      <td>17741.0</td>\n",
       "      <td>30.0</td>\n",
       "    </tr>\n",
       "  </tbody>\n",
       "</table>\n",
       "</div>"
      ],
      "text/plain": [
       "        CODE                  NAME TOTAL_POP  Flu_OBS  Vom_OBS  Diarr_OBS  \\\n",
       "0  E09000002  Barking and Dagenham     63009      1.0     13.0        9.0   \n",
       "1  E09000003                Barnet    225813      1.0     40.0      101.0   \n",
       "2  E09000004                Bexley     46339      1.0     11.0       12.0   \n",
       "3  E09000005                 Brent    178399      1.0     43.0       57.0   \n",
       "4  E09000006               Bromley    168381      0.0     19.0       43.0   \n",
       "\n",
       "   Gastro_OBS  lastdate  week  \n",
       "0        33.0   17741.0  30.0  \n",
       "1       148.0   17741.0  30.0  \n",
       "2        24.0   17741.0  30.0  \n",
       "3        97.0   17741.0  30.0  \n",
       "4        79.0   17741.0  30.0  "
      ]
     },
     "execution_count": 22,
     "metadata": {},
     "output_type": "execute_result"
    }
   ],
   "source": [
    "inhours.head()"
   ]
  },
  {
   "cell_type": "markdown",
   "id": "ea57bb4e-bf3b-4774-95f5-b43503890825",
   "metadata": {},
   "source": [
    "<br>\n",
    "<br>\n",
    "\n",
    "### Fix the population count"
   ]
  },
  {
   "cell_type": "markdown",
   "id": "fe44dd95-9a5c-439a-95dc-eca1ae613b69",
   "metadata": {},
   "source": [
    "<br>\n",
    "\n",
    "**Create function**"
   ]
  },
  {
   "cell_type": "code",
   "execution_count": 24,
   "id": "fe456fdd-9538-4459-ac72-36bd8a6f7464",
   "metadata": {},
   "outputs": [],
   "source": [
    "def as_number_or_nan(x):\n",
    "    return pd.to_numeric(x, errors='coerce')\n",
    "    "
   ]
  },
  {
   "cell_type": "code",
   "execution_count": 27,
   "id": "074bf882-edfb-499e-bdef-f61633d9b4ef",
   "metadata": {},
   "outputs": [],
   "source": [
    "inhours.loc[:, 'POP'] = as_number_or_nan(x = inhours.TOTAL_POP)"
   ]
  },
  {
   "cell_type": "code",
   "execution_count": 28,
   "id": "af1f229b-b6d0-4647-9662-9e856fd3d6e7",
   "metadata": {},
   "outputs": [
    {
     "data": {
      "text/html": [
       "<div>\n",
       "<style scoped>\n",
       "    .dataframe tbody tr th:only-of-type {\n",
       "        vertical-align: middle;\n",
       "    }\n",
       "\n",
       "    .dataframe tbody tr th {\n",
       "        vertical-align: top;\n",
       "    }\n",
       "\n",
       "    .dataframe thead th {\n",
       "        text-align: right;\n",
       "    }\n",
       "</style>\n",
       "<table border=\"1\" class=\"dataframe\">\n",
       "  <thead>\n",
       "    <tr style=\"text-align: right;\">\n",
       "      <th></th>\n",
       "      <th>CODE</th>\n",
       "      <th>NAME</th>\n",
       "      <th>TOTAL_POP</th>\n",
       "      <th>Flu_OBS</th>\n",
       "      <th>Vom_OBS</th>\n",
       "      <th>Diarr_OBS</th>\n",
       "      <th>Gastro_OBS</th>\n",
       "      <th>lastdate</th>\n",
       "      <th>week</th>\n",
       "      <th>POP</th>\n",
       "    </tr>\n",
       "  </thead>\n",
       "  <tbody>\n",
       "    <tr>\n",
       "      <th>0</th>\n",
       "      <td>E09000002</td>\n",
       "      <td>Barking and Dagenham</td>\n",
       "      <td>63009</td>\n",
       "      <td>1.0</td>\n",
       "      <td>13.0</td>\n",
       "      <td>9.0</td>\n",
       "      <td>33.0</td>\n",
       "      <td>17741.0</td>\n",
       "      <td>30.0</td>\n",
       "      <td>63009.0</td>\n",
       "    </tr>\n",
       "    <tr>\n",
       "      <th>1</th>\n",
       "      <td>E09000003</td>\n",
       "      <td>Barnet</td>\n",
       "      <td>225813</td>\n",
       "      <td>1.0</td>\n",
       "      <td>40.0</td>\n",
       "      <td>101.0</td>\n",
       "      <td>148.0</td>\n",
       "      <td>17741.0</td>\n",
       "      <td>30.0</td>\n",
       "      <td>225813.0</td>\n",
       "    </tr>\n",
       "    <tr>\n",
       "      <th>2</th>\n",
       "      <td>E09000004</td>\n",
       "      <td>Bexley</td>\n",
       "      <td>46339</td>\n",
       "      <td>1.0</td>\n",
       "      <td>11.0</td>\n",
       "      <td>12.0</td>\n",
       "      <td>24.0</td>\n",
       "      <td>17741.0</td>\n",
       "      <td>30.0</td>\n",
       "      <td>46339.0</td>\n",
       "    </tr>\n",
       "    <tr>\n",
       "      <th>3</th>\n",
       "      <td>E09000005</td>\n",
       "      <td>Brent</td>\n",
       "      <td>178399</td>\n",
       "      <td>1.0</td>\n",
       "      <td>43.0</td>\n",
       "      <td>57.0</td>\n",
       "      <td>97.0</td>\n",
       "      <td>17741.0</td>\n",
       "      <td>30.0</td>\n",
       "      <td>178399.0</td>\n",
       "    </tr>\n",
       "    <tr>\n",
       "      <th>4</th>\n",
       "      <td>E09000006</td>\n",
       "      <td>Bromley</td>\n",
       "      <td>168381</td>\n",
       "      <td>0.0</td>\n",
       "      <td>19.0</td>\n",
       "      <td>43.0</td>\n",
       "      <td>79.0</td>\n",
       "      <td>17741.0</td>\n",
       "      <td>30.0</td>\n",
       "      <td>168381.0</td>\n",
       "    </tr>\n",
       "  </tbody>\n",
       "</table>\n",
       "</div>"
      ],
      "text/plain": [
       "        CODE                  NAME TOTAL_POP  Flu_OBS  Vom_OBS  Diarr_OBS  \\\n",
       "0  E09000002  Barking and Dagenham     63009      1.0     13.0        9.0   \n",
       "1  E09000003                Barnet    225813      1.0     40.0      101.0   \n",
       "2  E09000004                Bexley     46339      1.0     11.0       12.0   \n",
       "3  E09000005                 Brent    178399      1.0     43.0       57.0   \n",
       "4  E09000006               Bromley    168381      0.0     19.0       43.0   \n",
       "\n",
       "   Gastro_OBS  lastdate  week       POP  \n",
       "0        33.0   17741.0  30.0   63009.0  \n",
       "1       148.0   17741.0  30.0  225813.0  \n",
       "2        24.0   17741.0  30.0   46339.0  \n",
       "3        97.0   17741.0  30.0  178399.0  \n",
       "4        79.0   17741.0  30.0  168381.0  "
      ]
     },
     "execution_count": 28,
     "metadata": {},
     "output_type": "execute_result"
    }
   ],
   "source": [
    "inhours.head()"
   ]
  },
  {
   "cell_type": "markdown",
   "id": "f22bb831-a508-4cf9-9406-814c1d2af0ef",
   "metadata": {},
   "source": [
    "<br>\n",
    "\n",
    "**Missing values**"
   ]
  },
  {
   "cell_type": "code",
   "execution_count": 34,
   "id": "7bb02a08-694c-40cd-9003-867056e161bb",
   "metadata": {},
   "outputs": [
    {
     "data": {
      "text/plain": [
       "Bury                         115\n",
       "Isle of Wight                 53\n",
       "Wokingham                     50\n",
       "Merton                         1\n",
       "Greenwich                      1\n",
       "Barking and Dagenham           1\n",
       "Sutton                         1\n",
       "Lambeth                        1\n",
       "Cheshire West and Chester      1\n",
       "Bexley                         1\n",
       "Herefordshire, County of       1\n",
       "Rochdale                       1\n",
       "Knowsley                       1\n",
       "Name: NAME, dtype: int64"
      ]
     },
     "execution_count": 34,
     "metadata": {},
     "output_type": "execute_result"
    }
   ],
   "source": [
    "inhours.loc[np.isnan(inhours.POP), 'NAME'].value_counts()"
   ]
  },
  {
   "cell_type": "markdown",
   "id": "f68db711-2503-40ba-8edf-c880518f7ff4",
   "metadata": {},
   "source": [
    "<br>\n",
    "<br>\n",
    "\n",
    "### Fix the date"
   ]
  },
  {
   "cell_type": "code",
   "execution_count": 39,
   "id": "2e67c6b0-7efa-4de3-a36c-a34b1578c757",
   "metadata": {},
   "outputs": [],
   "source": [
    "inhours.loc[:, 'date'] = pd.to_datetime(inhours.lastdate, unit='D', origin='unix')"
   ]
  },
  {
   "cell_type": "code",
   "execution_count": 40,
   "id": "7af55a80-5603-49e6-abf5-dcc1252094a9",
   "metadata": {},
   "outputs": [
    {
     "data": {
      "text/plain": [
       "count                            47084\n",
       "mean     2017-01-17 20:39:29.620252928\n",
       "min                2014-01-05 00:00:00\n",
       "25%                2015-07-17 06:00:00\n",
       "50%                2017-01-18 12:00:00\n",
       "75%                2018-07-23 18:00:00\n",
       "max                2020-01-26 00:00:00\n",
       "Name: date, dtype: object"
      ]
     },
     "execution_count": 40,
     "metadata": {},
     "output_type": "execute_result"
    }
   ],
   "source": [
    "inhours.date.describe(datetime_is_numeric=True)"
   ]
  },
  {
   "cell_type": "markdown",
   "id": "44c3c4e3-10b6-43c3-8942-a530a17e919a",
   "metadata": {},
   "source": [
    "<br>\n",
    "<br>\n",
    "\n",
    "### Trim the years"
   ]
  },
  {
   "cell_type": "code",
   "execution_count": 42,
   "id": "063bc2f8-3a7b-42d5-925f-5bfbe5046454",
   "metadata": {},
   "outputs": [],
   "source": [
    "inhours.loc[:, 'year'] = inhours.date.dt.year"
   ]
  },
  {
   "cell_type": "code",
   "execution_count": 43,
   "id": "061bf1f1-0021-4c7d-9c0a-0d7061373895",
   "metadata": {},
   "outputs": [
    {
     "data": {
      "text/plain": [
       "2017    7897\n",
       "2015    7748\n",
       "2019    7748\n",
       "2018    7748\n",
       "2016    7748\n",
       "2014    7599\n",
       "2020     596\n",
       "Name: year, dtype: int64"
      ]
     },
     "execution_count": 43,
     "metadata": {},
     "output_type": "execute_result"
    }
   ],
   "source": [
    "inhours.year.value_counts()"
   ]
  },
  {
   "cell_type": "code",
   "execution_count": 46,
   "id": "f52d0a8a-a182-4d9e-b128-f1e590ba6049",
   "metadata": {},
   "outputs": [
    {
     "data": {
      "text/plain": [
       "(47084, 12)"
      ]
     },
     "execution_count": 46,
     "metadata": {},
     "output_type": "execute_result"
    }
   ],
   "source": [
    "inhours.shape"
   ]
  },
  {
   "cell_type": "markdown",
   "id": "c81aad41-7c9a-4e6c-a4be-428a4fd45e9d",
   "metadata": {},
   "source": [
    "<br>\n",
    "\n",
    "Reduce"
   ]
  },
  {
   "cell_type": "code",
   "execution_count": 47,
   "id": "8a1caf3b-50aa-415f-ac3f-80033d0951ba",
   "metadata": {},
   "outputs": [],
   "source": [
    "inhours = inhours.loc[inhours.year != 2020, :]"
   ]
  },
  {
   "cell_type": "code",
   "execution_count": 48,
   "id": "94d49ef1-f8c3-40de-b293-3716d0f01386",
   "metadata": {},
   "outputs": [
    {
     "data": {
      "text/plain": [
       "2017    7897\n",
       "2015    7748\n",
       "2019    7748\n",
       "2018    7748\n",
       "2016    7748\n",
       "2014    7599\n",
       "Name: year, dtype: int64"
      ]
     },
     "execution_count": 48,
     "metadata": {},
     "output_type": "execute_result"
    }
   ],
   "source": [
    "inhours.year.value_counts()"
   ]
  },
  {
   "cell_type": "code",
   "execution_count": 49,
   "id": "52cbcf93-8045-448e-ab64-2d1e270f4484",
   "metadata": {},
   "outputs": [
    {
     "data": {
      "text/plain": [
       "(46488, 12)"
      ]
     },
     "execution_count": 49,
     "metadata": {},
     "output_type": "execute_result"
    }
   ],
   "source": [
    "inhours.shape"
   ]
  },
  {
   "cell_type": "markdown",
   "id": "13d46208-28c1-454c-ab24-bfcf8c783295",
   "metadata": {},
   "source": [
    "<br>\n",
    "<br>\n",
    "\n",
    "### Drop zero populations"
   ]
  },
  {
   "cell_type": "code",
   "execution_count": 59,
   "id": "d5ab09da-0c4d-4a5f-a98a-c8b47a8c28d2",
   "metadata": {},
   "outputs": [],
   "source": [
    "inhours = inhours.loc[inhours.POP != 0, :]"
   ]
  },
  {
   "cell_type": "code",
   "execution_count": 61,
   "id": "34cf27e3-456e-416e-b603-d8e156105252",
   "metadata": {},
   "outputs": [],
   "source": [
    "inhours = inhours.loc[~np.isnan(inhours.POP), :]"
   ]
  },
  {
   "cell_type": "code",
   "execution_count": 66,
   "id": "bd48e2ba-3927-4589-9ca4-63cb860cb94b",
   "metadata": {},
   "outputs": [
    {
     "data": {
      "text/html": [
       "<div>\n",
       "<style scoped>\n",
       "    .dataframe tbody tr th:only-of-type {\n",
       "        vertical-align: middle;\n",
       "    }\n",
       "\n",
       "    .dataframe tbody tr th {\n",
       "        vertical-align: top;\n",
       "    }\n",
       "\n",
       "    .dataframe thead th {\n",
       "        text-align: right;\n",
       "    }\n",
       "</style>\n",
       "<table border=\"1\" class=\"dataframe\">\n",
       "  <thead>\n",
       "    <tr style=\"text-align: right;\">\n",
       "      <th></th>\n",
       "      <th>CODE</th>\n",
       "      <th>NAME</th>\n",
       "      <th>TOTAL_POP</th>\n",
       "      <th>Flu_OBS</th>\n",
       "      <th>Vom_OBS</th>\n",
       "      <th>Diarr_OBS</th>\n",
       "      <th>Gastro_OBS</th>\n",
       "      <th>lastdate</th>\n",
       "      <th>week</th>\n",
       "      <th>POP</th>\n",
       "      <th>date</th>\n",
       "      <th>year</th>\n",
       "    </tr>\n",
       "  </thead>\n",
       "  <tbody>\n",
       "    <tr>\n",
       "      <th>0</th>\n",
       "      <td>E09000002</td>\n",
       "      <td>Barking and Dagenham</td>\n",
       "      <td>63009</td>\n",
       "      <td>1.0</td>\n",
       "      <td>13.0</td>\n",
       "      <td>9.0</td>\n",
       "      <td>33.0</td>\n",
       "      <td>17741.0</td>\n",
       "      <td>30.0</td>\n",
       "      <td>63009.0</td>\n",
       "      <td>2018-07-29</td>\n",
       "      <td>2018</td>\n",
       "    </tr>\n",
       "    <tr>\n",
       "      <th>1</th>\n",
       "      <td>E09000003</td>\n",
       "      <td>Barnet</td>\n",
       "      <td>225813</td>\n",
       "      <td>1.0</td>\n",
       "      <td>40.0</td>\n",
       "      <td>101.0</td>\n",
       "      <td>148.0</td>\n",
       "      <td>17741.0</td>\n",
       "      <td>30.0</td>\n",
       "      <td>225813.0</td>\n",
       "      <td>2018-07-29</td>\n",
       "      <td>2018</td>\n",
       "    </tr>\n",
       "    <tr>\n",
       "      <th>2</th>\n",
       "      <td>E09000004</td>\n",
       "      <td>Bexley</td>\n",
       "      <td>46339</td>\n",
       "      <td>1.0</td>\n",
       "      <td>11.0</td>\n",
       "      <td>12.0</td>\n",
       "      <td>24.0</td>\n",
       "      <td>17741.0</td>\n",
       "      <td>30.0</td>\n",
       "      <td>46339.0</td>\n",
       "      <td>2018-07-29</td>\n",
       "      <td>2018</td>\n",
       "    </tr>\n",
       "    <tr>\n",
       "      <th>3</th>\n",
       "      <td>E09000005</td>\n",
       "      <td>Brent</td>\n",
       "      <td>178399</td>\n",
       "      <td>1.0</td>\n",
       "      <td>43.0</td>\n",
       "      <td>57.0</td>\n",
       "      <td>97.0</td>\n",
       "      <td>17741.0</td>\n",
       "      <td>30.0</td>\n",
       "      <td>178399.0</td>\n",
       "      <td>2018-07-29</td>\n",
       "      <td>2018</td>\n",
       "    </tr>\n",
       "    <tr>\n",
       "      <th>4</th>\n",
       "      <td>E09000006</td>\n",
       "      <td>Bromley</td>\n",
       "      <td>168381</td>\n",
       "      <td>0.0</td>\n",
       "      <td>19.0</td>\n",
       "      <td>43.0</td>\n",
       "      <td>79.0</td>\n",
       "      <td>17741.0</td>\n",
       "      <td>30.0</td>\n",
       "      <td>168381.0</td>\n",
       "      <td>2018-07-29</td>\n",
       "      <td>2018</td>\n",
       "    </tr>\n",
       "    <tr>\n",
       "      <th>...</th>\n",
       "      <td>...</td>\n",
       "      <td>...</td>\n",
       "      <td>...</td>\n",
       "      <td>...</td>\n",
       "      <td>...</td>\n",
       "      <td>...</td>\n",
       "      <td>...</td>\n",
       "      <td>...</td>\n",
       "      <td>...</td>\n",
       "      <td>...</td>\n",
       "      <td>...</td>\n",
       "      <td>...</td>\n",
       "    </tr>\n",
       "    <tr>\n",
       "      <th>46483</th>\n",
       "      <td>E06000041</td>\n",
       "      <td>Wokingham</td>\n",
       "      <td>150642</td>\n",
       "      <td>14.0</td>\n",
       "      <td>12.0</td>\n",
       "      <td>22.0</td>\n",
       "      <td>38.0</td>\n",
       "      <td>18258.0</td>\n",
       "      <td>52.0</td>\n",
       "      <td>150642.0</td>\n",
       "      <td>2019-12-28</td>\n",
       "      <td>2019</td>\n",
       "    </tr>\n",
       "    <tr>\n",
       "      <th>46484</th>\n",
       "      <td>E10000014</td>\n",
       "      <td>Hampshire</td>\n",
       "      <td>1284063</td>\n",
       "      <td>117.0</td>\n",
       "      <td>120.0</td>\n",
       "      <td>240.0</td>\n",
       "      <td>376.0</td>\n",
       "      <td>18258.0</td>\n",
       "      <td>52.0</td>\n",
       "      <td>1284063.0</td>\n",
       "      <td>2019-12-28</td>\n",
       "      <td>2019</td>\n",
       "    </tr>\n",
       "    <tr>\n",
       "      <th>46485</th>\n",
       "      <td>E06000046</td>\n",
       "      <td>Isle of Wight</td>\n",
       "      <td>67289</td>\n",
       "      <td>1.0</td>\n",
       "      <td>1.0</td>\n",
       "      <td>1.0</td>\n",
       "      <td>44.0</td>\n",
       "      <td>18258.0</td>\n",
       "      <td>52.0</td>\n",
       "      <td>67289.0</td>\n",
       "      <td>2019-12-28</td>\n",
       "      <td>2019</td>\n",
       "    </tr>\n",
       "    <tr>\n",
       "      <th>46486</th>\n",
       "      <td>E06000044</td>\n",
       "      <td>Portsmouth</td>\n",
       "      <td>183875</td>\n",
       "      <td>1.0</td>\n",
       "      <td>1.0</td>\n",
       "      <td>1.0</td>\n",
       "      <td>48.0</td>\n",
       "      <td>18258.0</td>\n",
       "      <td>52.0</td>\n",
       "      <td>183875.0</td>\n",
       "      <td>2019-12-28</td>\n",
       "      <td>2019</td>\n",
       "    </tr>\n",
       "    <tr>\n",
       "      <th>46487</th>\n",
       "      <td>E06000045</td>\n",
       "      <td>Southampton</td>\n",
       "      <td>222761</td>\n",
       "      <td>11.0</td>\n",
       "      <td>11.0</td>\n",
       "      <td>22.0</td>\n",
       "      <td>40.0</td>\n",
       "      <td>18258.0</td>\n",
       "      <td>52.0</td>\n",
       "      <td>222761.0</td>\n",
       "      <td>2019-12-28</td>\n",
       "      <td>2019</td>\n",
       "    </tr>\n",
       "  </tbody>\n",
       "</table>\n",
       "<p>45924 rows × 12 columns</p>\n",
       "</div>"
      ],
      "text/plain": [
       "            CODE                  NAME TOTAL_POP  Flu_OBS  Vom_OBS  Diarr_OBS  \\\n",
       "0      E09000002  Barking and Dagenham     63009      1.0     13.0        9.0   \n",
       "1      E09000003                Barnet    225813      1.0     40.0      101.0   \n",
       "2      E09000004                Bexley     46339      1.0     11.0       12.0   \n",
       "3      E09000005                 Brent    178399      1.0     43.0       57.0   \n",
       "4      E09000006               Bromley    168381      0.0     19.0       43.0   \n",
       "...          ...                   ...       ...      ...      ...        ...   \n",
       "46483  E06000041             Wokingham    150642     14.0     12.0       22.0   \n",
       "46484  E10000014             Hampshire   1284063    117.0    120.0      240.0   \n",
       "46485  E06000046         Isle of Wight     67289      1.0      1.0        1.0   \n",
       "46486  E06000044            Portsmouth    183875      1.0      1.0        1.0   \n",
       "46487  E06000045           Southampton    222761     11.0     11.0       22.0   \n",
       "\n",
       "       Gastro_OBS  lastdate  week        POP       date  year  \n",
       "0            33.0   17741.0  30.0    63009.0 2018-07-29  2018  \n",
       "1           148.0   17741.0  30.0   225813.0 2018-07-29  2018  \n",
       "2            24.0   17741.0  30.0    46339.0 2018-07-29  2018  \n",
       "3            97.0   17741.0  30.0   178399.0 2018-07-29  2018  \n",
       "4            79.0   17741.0  30.0   168381.0 2018-07-29  2018  \n",
       "...           ...       ...   ...        ...        ...   ...  \n",
       "46483        38.0   18258.0  52.0   150642.0 2019-12-28  2019  \n",
       "46484       376.0   18258.0  52.0  1284063.0 2019-12-28  2019  \n",
       "46485        44.0   18258.0  52.0    67289.0 2019-12-28  2019  \n",
       "46486        48.0   18258.0  52.0   183875.0 2019-12-28  2019  \n",
       "46487        40.0   18258.0  52.0   222761.0 2019-12-28  2019  \n",
       "\n",
       "[45924 rows x 12 columns]"
      ]
     },
     "execution_count": 66,
     "metadata": {},
     "output_type": "execute_result"
    }
   ],
   "source": [
    "inhours"
   ]
  },
  {
   "cell_type": "markdown",
   "id": "9c01c288-955d-49dd-ac00-c3d94aaeffc8",
   "metadata": {},
   "source": [
    "<br>\n",
    "<br>\n",
    "\n",
    "## North South Divide"
   ]
  },
  {
   "cell_type": "markdown",
   "id": "cb78f3c9-6269-4fec-b999-713290ee53a2",
   "metadata": {},
   "source": [
    "<br>\n",
    "\n",
    "### Read the table"
   ]
  },
  {
   "cell_type": "code",
   "execution_count": 63,
   "id": "38673d13-3ff3-447a-9c33-12a3b4ff3edd",
   "metadata": {},
   "outputs": [],
   "source": [
    "connection = sqlite.connecting(databaseuri='../data/gpinhours.sqlite')\n",
    "query = 'SELECT * FROM localauth'\n",
    "localauth = pd.read_sql_query(query, connection)\n",
    "connection.close()"
   ]
  },
  {
   "cell_type": "code",
   "execution_count": 64,
   "id": "9f619296-74af-4e34-95e3-f02d8d8188fe",
   "metadata": {},
   "outputs": [
    {
     "name": "stdout",
     "output_type": "stream",
     "text": [
      "<class 'pandas.core.frame.DataFrame'>\n",
      "RangeIndex: 149 entries, 0 to 148\n",
      "Data columns (total 2 columns):\n",
      " #   Column  Non-Null Count  Dtype \n",
      "---  ------  --------------  ----- \n",
      " 0   NAME    149 non-null    object\n",
      " 1   NS      149 non-null    object\n",
      "dtypes: object(2)\n",
      "memory usage: 2.5+ KB\n"
     ]
    }
   ],
   "source": [
    "localauth.info()"
   ]
  },
  {
   "cell_type": "code",
   "execution_count": 65,
   "id": "70fd4a05-b298-4a53-8c37-8dd97ef14a6c",
   "metadata": {},
   "outputs": [
    {
     "data": {
      "text/html": [
       "<div>\n",
       "<style scoped>\n",
       "    .dataframe tbody tr th:only-of-type {\n",
       "        vertical-align: middle;\n",
       "    }\n",
       "\n",
       "    .dataframe tbody tr th {\n",
       "        vertical-align: top;\n",
       "    }\n",
       "\n",
       "    .dataframe thead th {\n",
       "        text-align: right;\n",
       "    }\n",
       "</style>\n",
       "<table border=\"1\" class=\"dataframe\">\n",
       "  <thead>\n",
       "    <tr style=\"text-align: right;\">\n",
       "      <th></th>\n",
       "      <th>NAME</th>\n",
       "      <th>NS</th>\n",
       "    </tr>\n",
       "  </thead>\n",
       "  <tbody>\n",
       "    <tr>\n",
       "      <th>0</th>\n",
       "      <td>Barking and Dagenham</td>\n",
       "      <td>South</td>\n",
       "    </tr>\n",
       "    <tr>\n",
       "      <th>1</th>\n",
       "      <td>Barnet</td>\n",
       "      <td>South</td>\n",
       "    </tr>\n",
       "    <tr>\n",
       "      <th>2</th>\n",
       "      <td>Barnsley</td>\n",
       "      <td>North</td>\n",
       "    </tr>\n",
       "    <tr>\n",
       "      <th>3</th>\n",
       "      <td>Bath and North East Somerset</td>\n",
       "      <td>South</td>\n",
       "    </tr>\n",
       "    <tr>\n",
       "      <th>4</th>\n",
       "      <td>Bedford</td>\n",
       "      <td>South</td>\n",
       "    </tr>\n",
       "  </tbody>\n",
       "</table>\n",
       "</div>"
      ],
      "text/plain": [
       "                           NAME     NS\n",
       "0          Barking and Dagenham  South\n",
       "1                        Barnet  South\n",
       "2                      Barnsley  North\n",
       "3  Bath and North East Somerset  South\n",
       "4                       Bedford  South"
      ]
     },
     "execution_count": 65,
     "metadata": {},
     "output_type": "execute_result"
    }
   ],
   "source": [
    "localauth.head()"
   ]
  },
  {
   "cell_type": "markdown",
   "id": "c1befa42-ea9c-45d5-80f3-2f25fadb84aa",
   "metadata": {},
   "source": [
    "<br>\n",
    "\n",
    "### Merge with GP data"
   ]
  },
  {
   "cell_type": "code",
   "execution_count": 67,
   "id": "561eadad-9a98-4d37-bd99-abcbcd0d721c",
   "metadata": {},
   "outputs": [],
   "source": [
    "inhoursNS = inhours.merge(localauth, how='left', on='NAME')"
   ]
  },
  {
   "cell_type": "code",
   "execution_count": 68,
   "id": "e0fcb314-67b6-428d-92c4-27b8b435fc0d",
   "metadata": {},
   "outputs": [
    {
     "data": {
      "text/html": [
       "<div>\n",
       "<style scoped>\n",
       "    .dataframe tbody tr th:only-of-type {\n",
       "        vertical-align: middle;\n",
       "    }\n",
       "\n",
       "    .dataframe tbody tr th {\n",
       "        vertical-align: top;\n",
       "    }\n",
       "\n",
       "    .dataframe thead th {\n",
       "        text-align: right;\n",
       "    }\n",
       "</style>\n",
       "<table border=\"1\" class=\"dataframe\">\n",
       "  <thead>\n",
       "    <tr style=\"text-align: right;\">\n",
       "      <th></th>\n",
       "      <th>CODE</th>\n",
       "      <th>NAME</th>\n",
       "      <th>TOTAL_POP</th>\n",
       "      <th>Flu_OBS</th>\n",
       "      <th>Vom_OBS</th>\n",
       "      <th>Diarr_OBS</th>\n",
       "      <th>Gastro_OBS</th>\n",
       "      <th>lastdate</th>\n",
       "      <th>week</th>\n",
       "      <th>POP</th>\n",
       "      <th>date</th>\n",
       "      <th>year</th>\n",
       "      <th>NS</th>\n",
       "    </tr>\n",
       "  </thead>\n",
       "  <tbody>\n",
       "    <tr>\n",
       "      <th>0</th>\n",
       "      <td>E09000002</td>\n",
       "      <td>Barking and Dagenham</td>\n",
       "      <td>63009</td>\n",
       "      <td>1.0</td>\n",
       "      <td>13.0</td>\n",
       "      <td>9.0</td>\n",
       "      <td>33.0</td>\n",
       "      <td>17741.0</td>\n",
       "      <td>30.0</td>\n",
       "      <td>63009.0</td>\n",
       "      <td>2018-07-29</td>\n",
       "      <td>2018</td>\n",
       "      <td>South</td>\n",
       "    </tr>\n",
       "    <tr>\n",
       "      <th>1</th>\n",
       "      <td>E09000003</td>\n",
       "      <td>Barnet</td>\n",
       "      <td>225813</td>\n",
       "      <td>1.0</td>\n",
       "      <td>40.0</td>\n",
       "      <td>101.0</td>\n",
       "      <td>148.0</td>\n",
       "      <td>17741.0</td>\n",
       "      <td>30.0</td>\n",
       "      <td>225813.0</td>\n",
       "      <td>2018-07-29</td>\n",
       "      <td>2018</td>\n",
       "      <td>South</td>\n",
       "    </tr>\n",
       "    <tr>\n",
       "      <th>2</th>\n",
       "      <td>E09000004</td>\n",
       "      <td>Bexley</td>\n",
       "      <td>46339</td>\n",
       "      <td>1.0</td>\n",
       "      <td>11.0</td>\n",
       "      <td>12.0</td>\n",
       "      <td>24.0</td>\n",
       "      <td>17741.0</td>\n",
       "      <td>30.0</td>\n",
       "      <td>46339.0</td>\n",
       "      <td>2018-07-29</td>\n",
       "      <td>2018</td>\n",
       "      <td>South</td>\n",
       "    </tr>\n",
       "    <tr>\n",
       "      <th>3</th>\n",
       "      <td>E09000005</td>\n",
       "      <td>Brent</td>\n",
       "      <td>178399</td>\n",
       "      <td>1.0</td>\n",
       "      <td>43.0</td>\n",
       "      <td>57.0</td>\n",
       "      <td>97.0</td>\n",
       "      <td>17741.0</td>\n",
       "      <td>30.0</td>\n",
       "      <td>178399.0</td>\n",
       "      <td>2018-07-29</td>\n",
       "      <td>2018</td>\n",
       "      <td>South</td>\n",
       "    </tr>\n",
       "    <tr>\n",
       "      <th>4</th>\n",
       "      <td>E09000006</td>\n",
       "      <td>Bromley</td>\n",
       "      <td>168381</td>\n",
       "      <td>0.0</td>\n",
       "      <td>19.0</td>\n",
       "      <td>43.0</td>\n",
       "      <td>79.0</td>\n",
       "      <td>17741.0</td>\n",
       "      <td>30.0</td>\n",
       "      <td>168381.0</td>\n",
       "      <td>2018-07-29</td>\n",
       "      <td>2018</td>\n",
       "      <td>South</td>\n",
       "    </tr>\n",
       "    <tr>\n",
       "      <th>...</th>\n",
       "      <td>...</td>\n",
       "      <td>...</td>\n",
       "      <td>...</td>\n",
       "      <td>...</td>\n",
       "      <td>...</td>\n",
       "      <td>...</td>\n",
       "      <td>...</td>\n",
       "      <td>...</td>\n",
       "      <td>...</td>\n",
       "      <td>...</td>\n",
       "      <td>...</td>\n",
       "      <td>...</td>\n",
       "      <td>...</td>\n",
       "    </tr>\n",
       "    <tr>\n",
       "      <th>45919</th>\n",
       "      <td>E06000041</td>\n",
       "      <td>Wokingham</td>\n",
       "      <td>150642</td>\n",
       "      <td>14.0</td>\n",
       "      <td>12.0</td>\n",
       "      <td>22.0</td>\n",
       "      <td>38.0</td>\n",
       "      <td>18258.0</td>\n",
       "      <td>52.0</td>\n",
       "      <td>150642.0</td>\n",
       "      <td>2019-12-28</td>\n",
       "      <td>2019</td>\n",
       "      <td>South</td>\n",
       "    </tr>\n",
       "    <tr>\n",
       "      <th>45920</th>\n",
       "      <td>E10000014</td>\n",
       "      <td>Hampshire</td>\n",
       "      <td>1284063</td>\n",
       "      <td>117.0</td>\n",
       "      <td>120.0</td>\n",
       "      <td>240.0</td>\n",
       "      <td>376.0</td>\n",
       "      <td>18258.0</td>\n",
       "      <td>52.0</td>\n",
       "      <td>1284063.0</td>\n",
       "      <td>2019-12-28</td>\n",
       "      <td>2019</td>\n",
       "      <td>South</td>\n",
       "    </tr>\n",
       "    <tr>\n",
       "      <th>45921</th>\n",
       "      <td>E06000046</td>\n",
       "      <td>Isle of Wight</td>\n",
       "      <td>67289</td>\n",
       "      <td>1.0</td>\n",
       "      <td>1.0</td>\n",
       "      <td>1.0</td>\n",
       "      <td>44.0</td>\n",
       "      <td>18258.0</td>\n",
       "      <td>52.0</td>\n",
       "      <td>67289.0</td>\n",
       "      <td>2019-12-28</td>\n",
       "      <td>2019</td>\n",
       "      <td>South</td>\n",
       "    </tr>\n",
       "    <tr>\n",
       "      <th>45922</th>\n",
       "      <td>E06000044</td>\n",
       "      <td>Portsmouth</td>\n",
       "      <td>183875</td>\n",
       "      <td>1.0</td>\n",
       "      <td>1.0</td>\n",
       "      <td>1.0</td>\n",
       "      <td>48.0</td>\n",
       "      <td>18258.0</td>\n",
       "      <td>52.0</td>\n",
       "      <td>183875.0</td>\n",
       "      <td>2019-12-28</td>\n",
       "      <td>2019</td>\n",
       "      <td>South</td>\n",
       "    </tr>\n",
       "    <tr>\n",
       "      <th>45923</th>\n",
       "      <td>E06000045</td>\n",
       "      <td>Southampton</td>\n",
       "      <td>222761</td>\n",
       "      <td>11.0</td>\n",
       "      <td>11.0</td>\n",
       "      <td>22.0</td>\n",
       "      <td>40.0</td>\n",
       "      <td>18258.0</td>\n",
       "      <td>52.0</td>\n",
       "      <td>222761.0</td>\n",
       "      <td>2019-12-28</td>\n",
       "      <td>2019</td>\n",
       "      <td>South</td>\n",
       "    </tr>\n",
       "  </tbody>\n",
       "</table>\n",
       "<p>45924 rows × 13 columns</p>\n",
       "</div>"
      ],
      "text/plain": [
       "            CODE                  NAME TOTAL_POP  Flu_OBS  Vom_OBS  Diarr_OBS  \\\n",
       "0      E09000002  Barking and Dagenham     63009      1.0     13.0        9.0   \n",
       "1      E09000003                Barnet    225813      1.0     40.0      101.0   \n",
       "2      E09000004                Bexley     46339      1.0     11.0       12.0   \n",
       "3      E09000005                 Brent    178399      1.0     43.0       57.0   \n",
       "4      E09000006               Bromley    168381      0.0     19.0       43.0   \n",
       "...          ...                   ...       ...      ...      ...        ...   \n",
       "45919  E06000041             Wokingham    150642     14.0     12.0       22.0   \n",
       "45920  E10000014             Hampshire   1284063    117.0    120.0      240.0   \n",
       "45921  E06000046         Isle of Wight     67289      1.0      1.0        1.0   \n",
       "45922  E06000044            Portsmouth    183875      1.0      1.0        1.0   \n",
       "45923  E06000045           Southampton    222761     11.0     11.0       22.0   \n",
       "\n",
       "       Gastro_OBS  lastdate  week        POP       date  year     NS  \n",
       "0            33.0   17741.0  30.0    63009.0 2018-07-29  2018  South  \n",
       "1           148.0   17741.0  30.0   225813.0 2018-07-29  2018  South  \n",
       "2            24.0   17741.0  30.0    46339.0 2018-07-29  2018  South  \n",
       "3            97.0   17741.0  30.0   178399.0 2018-07-29  2018  South  \n",
       "4            79.0   17741.0  30.0   168381.0 2018-07-29  2018  South  \n",
       "...           ...       ...   ...        ...        ...   ...    ...  \n",
       "45919        38.0   18258.0  52.0   150642.0 2019-12-28  2019  South  \n",
       "45920       376.0   18258.0  52.0  1284063.0 2019-12-28  2019  South  \n",
       "45921        44.0   18258.0  52.0    67289.0 2019-12-28  2019  South  \n",
       "45922        48.0   18258.0  52.0   183875.0 2019-12-28  2019  South  \n",
       "45923        40.0   18258.0  52.0   222761.0 2019-12-28  2019  South  \n",
       "\n",
       "[45924 rows x 13 columns]"
      ]
     },
     "execution_count": 68,
     "metadata": {},
     "output_type": "execute_result"
    }
   ],
   "source": [
    "inhoursNS"
   ]
  },
  {
   "cell_type": "markdown",
   "id": "e9ecb650-5e51-4760-b8d2-46337b34b175",
   "metadata": {},
   "source": [
    "<br>\n",
    "<br>\n",
    "\n",
    "### Group and aggregate"
   ]
  },
  {
   "cell_type": "code",
   "execution_count": 71,
   "id": "b49a71da-0ef1-4c27-bbf5-77a85645020b",
   "metadata": {},
   "outputs": [],
   "source": [
    "fields = ['NS', 'year', 'POP', 'Flu_OBS', 'Vom_OBS', 'Diarr_OBS', 'Gastro_OBS']"
   ]
  },
  {
   "cell_type": "code",
   "execution_count": 82,
   "id": "ae188ba6-1a76-4bae-8562-deccf4f9b23b",
   "metadata": {},
   "outputs": [
    {
     "data": {
      "text/html": [
       "<div>\n",
       "<style scoped>\n",
       "    .dataframe tbody tr th:only-of-type {\n",
       "        vertical-align: middle;\n",
       "    }\n",
       "\n",
       "    .dataframe tbody tr th {\n",
       "        vertical-align: top;\n",
       "    }\n",
       "\n",
       "    .dataframe thead th {\n",
       "        text-align: right;\n",
       "    }\n",
       "</style>\n",
       "<table border=\"1\" class=\"dataframe\">\n",
       "  <thead>\n",
       "    <tr style=\"text-align: right;\">\n",
       "      <th></th>\n",
       "      <th></th>\n",
       "      <th>Total</th>\n",
       "      <th>Flu_OBS</th>\n",
       "      <th>Vom_OBS</th>\n",
       "      <th>Diarr_OBS</th>\n",
       "      <th>Gastro_OBS</th>\n",
       "    </tr>\n",
       "    <tr>\n",
       "      <th>NS</th>\n",
       "      <th>year</th>\n",
       "      <th></th>\n",
       "      <th></th>\n",
       "      <th></th>\n",
       "      <th></th>\n",
       "      <th></th>\n",
       "    </tr>\n",
       "  </thead>\n",
       "  <tbody>\n",
       "    <tr>\n",
       "      <th rowspan=\"6\" valign=\"top\">North</th>\n",
       "      <th>2014</th>\n",
       "      <td>719655399.0</td>\n",
       "      <td>31870.0</td>\n",
       "      <td>144469.0</td>\n",
       "      <td>279606.0</td>\n",
       "      <td>524322.0</td>\n",
       "    </tr>\n",
       "    <tr>\n",
       "      <th>2015</th>\n",
       "      <td>812875983.0</td>\n",
       "      <td>44352.0</td>\n",
       "      <td>155056.0</td>\n",
       "      <td>302202.0</td>\n",
       "      <td>555413.0</td>\n",
       "    </tr>\n",
       "    <tr>\n",
       "      <th>2016</th>\n",
       "      <td>852949550.0</td>\n",
       "      <td>48895.0</td>\n",
       "      <td>159742.0</td>\n",
       "      <td>307934.0</td>\n",
       "      <td>569276.0</td>\n",
       "    </tr>\n",
       "    <tr>\n",
       "      <th>2017</th>\n",
       "      <td>737539944.0</td>\n",
       "      <td>30220.0</td>\n",
       "      <td>122787.0</td>\n",
       "      <td>248197.0</td>\n",
       "      <td>462994.0</td>\n",
       "    </tr>\n",
       "    <tr>\n",
       "      <th>2018</th>\n",
       "      <td>607900399.0</td>\n",
       "      <td>46228.0</td>\n",
       "      <td>90951.0</td>\n",
       "      <td>194246.0</td>\n",
       "      <td>365863.0</td>\n",
       "    </tr>\n",
       "    <tr>\n",
       "      <th>2019</th>\n",
       "      <td>614454668.0</td>\n",
       "      <td>31826.0</td>\n",
       "      <td>87114.0</td>\n",
       "      <td>186457.0</td>\n",
       "      <td>357594.0</td>\n",
       "    </tr>\n",
       "    <tr>\n",
       "      <th rowspan=\"6\" valign=\"top\">South</th>\n",
       "      <th>2014</th>\n",
       "      <td>759999787.0</td>\n",
       "      <td>47093.0</td>\n",
       "      <td>141909.0</td>\n",
       "      <td>283547.0</td>\n",
       "      <td>507028.0</td>\n",
       "    </tr>\n",
       "    <tr>\n",
       "      <th>2015</th>\n",
       "      <td>838254817.0</td>\n",
       "      <td>61180.0</td>\n",
       "      <td>147032.0</td>\n",
       "      <td>300360.0</td>\n",
       "      <td>537786.0</td>\n",
       "    </tr>\n",
       "    <tr>\n",
       "      <th>2016</th>\n",
       "      <td>908035557.0</td>\n",
       "      <td>66822.0</td>\n",
       "      <td>156401.0</td>\n",
       "      <td>308993.0</td>\n",
       "      <td>558159.0</td>\n",
       "    </tr>\n",
       "    <tr>\n",
       "      <th>2017</th>\n",
       "      <td>769928672.0</td>\n",
       "      <td>40572.0</td>\n",
       "      <td>117494.0</td>\n",
       "      <td>245726.0</td>\n",
       "      <td>442456.0</td>\n",
       "    </tr>\n",
       "    <tr>\n",
       "      <th>2018</th>\n",
       "      <td>641245125.0</td>\n",
       "      <td>45791.0</td>\n",
       "      <td>84614.0</td>\n",
       "      <td>191328.0</td>\n",
       "      <td>343863.0</td>\n",
       "    </tr>\n",
       "    <tr>\n",
       "      <th>2019</th>\n",
       "      <td>647648492.0</td>\n",
       "      <td>34353.0</td>\n",
       "      <td>79300.0</td>\n",
       "      <td>180489.0</td>\n",
       "      <td>324279.0</td>\n",
       "    </tr>\n",
       "  </tbody>\n",
       "</table>\n",
       "</div>"
      ],
      "text/plain": [
       "                  Total  Flu_OBS   Vom_OBS  Diarr_OBS  Gastro_OBS\n",
       "NS    year                                                       \n",
       "North 2014  719655399.0  31870.0  144469.0   279606.0    524322.0\n",
       "      2015  812875983.0  44352.0  155056.0   302202.0    555413.0\n",
       "      2016  852949550.0  48895.0  159742.0   307934.0    569276.0\n",
       "      2017  737539944.0  30220.0  122787.0   248197.0    462994.0\n",
       "      2018  607900399.0  46228.0   90951.0   194246.0    365863.0\n",
       "      2019  614454668.0  31826.0   87114.0   186457.0    357594.0\n",
       "South 2014  759999787.0  47093.0  141909.0   283547.0    507028.0\n",
       "      2015  838254817.0  61180.0  147032.0   300360.0    537786.0\n",
       "      2016  908035557.0  66822.0  156401.0   308993.0    558159.0\n",
       "      2017  769928672.0  40572.0  117494.0   245726.0    442456.0\n",
       "      2018  641245125.0  45791.0   84614.0   191328.0    343863.0\n",
       "      2019  647648492.0  34353.0   79300.0   180489.0    324279.0"
      ]
     },
     "execution_count": 82,
     "metadata": {},
     "output_type": "execute_result"
    }
   ],
   "source": [
    "# Either\n",
    "# inhoursNS[fields].groupby(by=['NS', 'year']).agg('sum')\n",
    "\n",
    "\n",
    "# Or\n",
    "aggNS = inhoursNS[fields].groupby(by=['NS', 'year']).agg(Total=('POP', sum), \n",
    "                                                         Flu_OBS=('Flu_OBS', sum), \n",
    "                                                         Vom_OBS=('Vom_OBS', sum), \n",
    "                                                         Diarr_OBS=('Diarr_OBS', sum), \n",
    "                                                         Gastro_OBS=('Gastro_OBS', sum))\n",
    "aggNS"
   ]
  },
  {
   "cell_type": "markdown",
   "id": "fb12d009-9727-4a17-aa61-46ce48dc1d84",
   "metadata": {},
   "source": [
    "<br>\n",
    "<br>\n",
    "\n",
    "### Consultation rates"
   ]
  }
 ],
 "metadata": {
  "kernelspec": {
   "display_name": "Python 3 (ipykernel)",
   "language": "python",
   "name": "python3"
  },
  "language_info": {
   "codemirror_mode": {
    "name": "ipython",
    "version": 3
   },
   "file_extension": ".py",
   "mimetype": "text/x-python",
   "name": "python",
   "nbconvert_exporter": "python",
   "pygments_lexer": "ipython3",
   "version": "3.7.11"
  }
 },
 "nbformat": 4,
 "nbformat_minor": 5
}
