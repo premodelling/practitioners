{
 "cells": [
  {
   "cell_type": "markdown",
   "id": "513ff641-305d-414b-a217-464b5ec1fed0",
   "metadata": {},
   "source": [
    "**Libraries**"
   ]
  },
  {
   "cell_type": "code",
   "execution_count": null,
   "id": "e780cbe3-19cb-461a-9fa3-badc1b423f6a",
   "metadata": {},
   "outputs": [],
   "source": [
    "import sqlite3\n",
    "import pandas as pd\n",
    "import numpy as np\n",
    "\n",
    "import arviz as az\n",
    "import matplotlib.pyplot as plt\n",
    "import seaborn as sns"
   ]
  },
  {
   "cell_type": "markdown",
   "id": "b785ca40-076d-4e6a-b68f-673b9a7899b5",
   "metadata": {},
   "source": [
    "<br>\n",
    "\n",
    "**Settings**"
   ]
  },
  {
   "cell_type": "code",
   "execution_count": null,
   "id": "633b1d62-2903-4396-b1cb-1cfd66af5776",
   "metadata": {},
   "outputs": [],
   "source": [
    "sns.set(font_scale=1)\n",
    "az.style.use('arviz-darkgrid')"
   ]
  },
  {
   "cell_type": "markdown",
   "id": "e2ef68b9-bfce-4369-b066-43830a0e1e70",
   "metadata": {},
   "source": [
    "<br>\n",
    "<br>\n",
    "\n",
    "## Reading the Data"
   ]
  },
  {
   "cell_type": "markdown",
   "id": "ad331bc2-f3fe-41c3-a063-11b5a15dd3e6",
   "metadata": {},
   "source": [
    "\n",
    "### Database connection instance"
   ]
  },
  {
   "cell_type": "code",
   "execution_count": null,
   "id": "97f9cbb2-d28e-482c-b78c-db75bc77c938",
   "metadata": {},
   "outputs": [],
   "source": [
    "class SQLITE:\n",
    "\n",
    "    def __init__(self, databaseuri: str):\n",
    "        \"\"\"\n",
    "        \n",
    "        :param databaseuri: The URI of a database file\n",
    "        \"\"\"\n",
    "        \n",
    "        self.databaseuri = databaseuri\n",
    "\n",
    "    def connecting(self):\n",
    "        \"\"\"\n",
    "        \n",
    "        :return: database connection instance\n",
    "        \"\"\"\n",
    "\n",
    "        connection = None\n",
    "\n",
    "        try:\n",
    "            connection = sqlite3.connect(self.databaseuri)\n",
    "        except ConnectionError as err:\n",
    "            raise Exception(err.strerror) in err\n",
    "\n",
    "        return connection"
   ]
  },
  {
   "cell_type": "code",
   "execution_count": null,
   "id": "514eb23a-b0e4-4c4f-90c1-61f04e0e34c6",
   "metadata": {},
   "outputs": [],
   "source": [
    "sqlite = SQLITE(databaseuri='../data/gpinhours.sqlite')"
   ]
  },
  {
   "cell_type": "markdown",
   "id": "197d84b6-eaa0-4ac1-b46f-c13997f397f0",
   "metadata": {},
   "source": [
    "<br>\n",
    "<br>\n",
    "\n",
    "### Data reading"
   ]
  },
  {
   "cell_type": "code",
   "execution_count": null,
   "id": "4c4406cf-adc4-43be-ba2b-f222d946702b",
   "metadata": {},
   "outputs": [],
   "source": [
    "connection = sqlite.connecting()\n",
    "query = 'SELECT * FROM inhours'\n",
    "inhours = pd.read_sql_query(query, connection)\n",
    "connection.close()"
   ]
  },
  {
   "cell_type": "code",
   "execution_count": null,
   "id": "a198d150-9742-4d42-9bf6-5512661b70de",
   "metadata": {},
   "outputs": [],
   "source": [
    "inhours.info()"
   ]
  },
  {
   "cell_type": "markdown",
   "id": "5f25ffaf-a1e8-448c-8b8d-39961f22ba6f",
   "metadata": {},
   "source": [
    "<br>\n",
    "<br>\n",
    "\n",
    "## Data Cleaning"
   ]
  },
  {
   "cell_type": "code",
   "execution_count": null,
   "id": "f2573351-386c-42f9-92a6-bfeb49886cac",
   "metadata": {},
   "outputs": [],
   "source": [
    "inhours.head()"
   ]
  },
  {
   "cell_type": "markdown",
   "id": "ea57bb4e-bf3b-4774-95f5-b43503890825",
   "metadata": {},
   "source": [
    "<br>\n",
    "<br>\n",
    "\n",
    "### Fix the population count"
   ]
  },
  {
   "cell_type": "markdown",
   "id": "fe44dd95-9a5c-439a-95dc-eca1ae613b69",
   "metadata": {},
   "source": [
    "<br>\n",
    "\n",
    "**Create function**"
   ]
  },
  {
   "cell_type": "code",
   "execution_count": null,
   "id": "fe456fdd-9538-4459-ac72-36bd8a6f7464",
   "metadata": {},
   "outputs": [],
   "source": [
    "def as_number_or_nan(x):\n",
    "    return pd.to_numeric(x, errors='coerce')\n",
    "    "
   ]
  },
  {
   "cell_type": "code",
   "execution_count": null,
   "id": "074bf882-edfb-499e-bdef-f61633d9b4ef",
   "metadata": {},
   "outputs": [],
   "source": [
    "inhours.loc[:, 'POP'] = as_number_or_nan(x = inhours.TOTAL_POP)"
   ]
  },
  {
   "cell_type": "code",
   "execution_count": null,
   "id": "af1f229b-b6d0-4647-9662-9e856fd3d6e7",
   "metadata": {},
   "outputs": [],
   "source": [
    "inhours.head()"
   ]
  },
  {
   "cell_type": "markdown",
   "id": "f22bb831-a508-4cf9-9406-814c1d2af0ef",
   "metadata": {},
   "source": [
    "<br>\n",
    "\n",
    "**Missing values**"
   ]
  },
  {
   "cell_type": "code",
   "execution_count": null,
   "id": "7bb02a08-694c-40cd-9003-867056e161bb",
   "metadata": {},
   "outputs": [],
   "source": [
    "inhours.loc[np.isnan(inhours.POP), 'NAME'].value_counts()"
   ]
  },
  {
   "cell_type": "markdown",
   "id": "f68db711-2503-40ba-8edf-c880518f7ff4",
   "metadata": {},
   "source": [
    "<br>\n",
    "<br>\n",
    "\n",
    "### Fix the date"
   ]
  },
  {
   "cell_type": "code",
   "execution_count": null,
   "id": "2e67c6b0-7efa-4de3-a36c-a34b1578c757",
   "metadata": {},
   "outputs": [],
   "source": [
    "inhours.loc[:, 'date'] = pd.to_datetime(inhours.lastdate, unit='D', origin='unix')"
   ]
  },
  {
   "cell_type": "code",
   "execution_count": null,
   "id": "7af55a80-5603-49e6-abf5-dcc1252094a9",
   "metadata": {},
   "outputs": [],
   "source": [
    "inhours.date.describe(datetime_is_numeric=True)"
   ]
  },
  {
   "cell_type": "markdown",
   "id": "44c3c4e3-10b6-43c3-8942-a530a17e919a",
   "metadata": {},
   "source": [
    "<br>\n",
    "<br>\n",
    "\n",
    "### Trim the years"
   ]
  },
  {
   "cell_type": "code",
   "execution_count": null,
   "id": "063bc2f8-3a7b-42d5-925f-5bfbe5046454",
   "metadata": {},
   "outputs": [],
   "source": [
    "inhours.loc[:, 'year'] = inhours.date.dt.year"
   ]
  },
  {
   "cell_type": "code",
   "execution_count": null,
   "id": "061bf1f1-0021-4c7d-9c0a-0d7061373895",
   "metadata": {},
   "outputs": [],
   "source": [
    "inhours.year.value_counts()"
   ]
  },
  {
   "cell_type": "code",
   "execution_count": null,
   "id": "f52d0a8a-a182-4d9e-b128-f1e590ba6049",
   "metadata": {},
   "outputs": [],
   "source": [
    "inhours.shape"
   ]
  },
  {
   "cell_type": "markdown",
   "id": "c81aad41-7c9a-4e6c-a4be-428a4fd45e9d",
   "metadata": {},
   "source": [
    "<br>\n",
    "\n",
    "Reduce"
   ]
  },
  {
   "cell_type": "code",
   "execution_count": null,
   "id": "8a1caf3b-50aa-415f-ac3f-80033d0951ba",
   "metadata": {},
   "outputs": [],
   "source": [
    "inhours = inhours.loc[inhours.year != 2020, :]"
   ]
  },
  {
   "cell_type": "code",
   "execution_count": null,
   "id": "94d49ef1-f8c3-40de-b293-3716d0f01386",
   "metadata": {},
   "outputs": [],
   "source": [
    "inhours.year.value_counts()"
   ]
  },
  {
   "cell_type": "code",
   "execution_count": null,
   "id": "52cbcf93-8045-448e-ab64-2d1e270f4484",
   "metadata": {},
   "outputs": [],
   "source": [
    "inhours.shape"
   ]
  },
  {
   "cell_type": "markdown",
   "id": "13d46208-28c1-454c-ab24-bfcf8c783295",
   "metadata": {},
   "source": [
    "<br>\n",
    "<br>\n",
    "\n",
    "### Drop zero populations"
   ]
  },
  {
   "cell_type": "code",
   "execution_count": null,
   "id": "d5ab09da-0c4d-4a5f-a98a-c8b47a8c28d2",
   "metadata": {},
   "outputs": [],
   "source": [
    "inhours = inhours.loc[inhours.POP != 0, :]"
   ]
  },
  {
   "cell_type": "code",
   "execution_count": null,
   "id": "34cf27e3-456e-416e-b603-d8e156105252",
   "metadata": {},
   "outputs": [],
   "source": [
    "inhours = inhours.loc[~np.isnan(inhours.POP), :]"
   ]
  },
  {
   "cell_type": "markdown",
   "id": "a5fe5b23-7ab5-4997-a973-5dbb152024cd",
   "metadata": {},
   "source": [
    "<br>\n",
    "<br>\n",
    "\n",
    "### Final clean data"
   ]
  },
  {
   "cell_type": "code",
   "execution_count": null,
   "id": "bd48e2ba-3927-4589-9ca4-63cb860cb94b",
   "metadata": {},
   "outputs": [],
   "source": [
    "inhours"
   ]
  },
  {
   "cell_type": "markdown",
   "id": "9c01c288-955d-49dd-ac00-c3d94aaeffc8",
   "metadata": {},
   "source": [
    "<br>\n",
    "<br>\n",
    "\n",
    "## North South Divide"
   ]
  },
  {
   "cell_type": "markdown",
   "id": "cb78f3c9-6269-4fec-b999-713290ee53a2",
   "metadata": {},
   "source": [
    "\n",
    "### Read the table"
   ]
  },
  {
   "cell_type": "code",
   "execution_count": null,
   "id": "38673d13-3ff3-447a-9c33-12a3b4ff3edd",
   "metadata": {},
   "outputs": [],
   "source": [
    "connection = sqlite.connecting()\n",
    "query = 'SELECT * FROM localauth'\n",
    "localauth = pd.read_sql_query(query, connection)\n",
    "connection.close()"
   ]
  },
  {
   "cell_type": "code",
   "execution_count": null,
   "id": "9f619296-74af-4e34-95e3-f02d8d8188fe",
   "metadata": {},
   "outputs": [],
   "source": [
    "localauth.info()"
   ]
  },
  {
   "cell_type": "code",
   "execution_count": null,
   "id": "70fd4a05-b298-4a53-8c37-8dd97ef14a6c",
   "metadata": {},
   "outputs": [],
   "source": [
    "localauth.head()"
   ]
  },
  {
   "cell_type": "markdown",
   "id": "c1befa42-ea9c-45d5-80f3-2f25fadb84aa",
   "metadata": {},
   "source": [
    "<br>\n",
    "\n",
    "### Merge with GP data"
   ]
  },
  {
   "cell_type": "code",
   "execution_count": null,
   "id": "561eadad-9a98-4d37-bd99-abcbcd0d721c",
   "metadata": {},
   "outputs": [],
   "source": [
    "inhoursNS = inhours.merge(localauth, how='left', on='NAME')"
   ]
  },
  {
   "cell_type": "code",
   "execution_count": null,
   "id": "e0fcb314-67b6-428d-92c4-27b8b435fc0d",
   "metadata": {},
   "outputs": [],
   "source": [
    "inhoursNS"
   ]
  },
  {
   "cell_type": "markdown",
   "id": "e9ecb650-5e51-4760-b8d2-46337b34b175",
   "metadata": {},
   "source": [
    "<br>\n",
    "<br>\n",
    "\n",
    "### Group and aggregate"
   ]
  },
  {
   "cell_type": "code",
   "execution_count": null,
   "id": "b49a71da-0ef1-4c27-bbf5-77a85645020b",
   "metadata": {},
   "outputs": [],
   "source": [
    "fields = ['NS', 'year', 'POP', 'Flu_OBS', 'Vom_OBS', 'Diarr_OBS', 'Gastro_OBS']"
   ]
  },
  {
   "cell_type": "code",
   "execution_count": null,
   "id": "ae188ba6-1a76-4bae-8562-deccf4f9b23b",
   "metadata": {},
   "outputs": [],
   "source": [
    "# Either\n",
    "# inhoursNS[fields].groupby(by=['NS', 'year']).agg('sum')\n",
    "\n",
    "# Or\n",
    "aggNS = inhoursNS[fields].groupby(by=['NS', 'year']).agg(Total=('POP', sum), \n",
    "                                                         Flu_OBS=('Flu_OBS', sum), \n",
    "                                                         Vom_OBS=('Vom_OBS', sum), \n",
    "                                                         Diarr_OBS=('Diarr_OBS', sum), \n",
    "                                                         Gastro_OBS=('Gastro_OBS', sum))\n",
    "aggNS"
   ]
  },
  {
   "cell_type": "markdown",
   "id": "fb12d009-9727-4a17-aa61-46ce48dc1d84",
   "metadata": {},
   "source": [
    "<br>\n",
    "<br>\n",
    "\n",
    "### Consultation rates"
   ]
  },
  {
   "cell_type": "code",
   "execution_count": null,
   "id": "df6f18c8-7644-4a00-bebc-3f67ff1e2ba9",
   "metadata": {},
   "outputs": [],
   "source": [
    "classes = ['Flu_OBS', 'Vom_OBS', 'Diarr_OBS', 'Gastro_OBS']\n",
    "rates =  100000 * np.true_divide(aggNS[classes], aggNS[['Total']])\n",
    "aggNS.loc[:, ['Flu_rate', 'Vom_rate', 'Diarr_rate', 'Gastro_rate']] = rates.to_numpy()"
   ]
  },
  {
   "cell_type": "code",
   "execution_count": null,
   "id": "de710a89-1db5-4eb4-a436-7c507681957a",
   "metadata": {},
   "outputs": [],
   "source": [
    "aggNS[['Flu_rate', 'Vom_rate', 'Diarr_rate', 'Gastro_rate']]"
   ]
  },
  {
   "cell_type": "markdown",
   "id": "5ce04d7d-cbcf-4d28-ab00-628bca660358",
   "metadata": {},
   "source": [
    "<br>\n",
    "<br>\n",
    "\n",
    "### Plot the Rates"
   ]
  },
  {
   "cell_type": "code",
   "execution_count": null,
   "id": "b74eff5b-c875-4277-a6af-e4f1ec4345e1",
   "metadata": {},
   "outputs": [],
   "source": [
    "aggNSTable = aggNS.reset_index()\n",
    "aggNSTable.head()"
   ]
  },
  {
   "cell_type": "code",
   "execution_count": null,
   "id": "5129793e-eff9-47d0-8f3f-023dc1aebef0",
   "metadata": {},
   "outputs": [],
   "source": [
    "sns.set(font_scale=0.9)\n",
    "fig, axes = plt.subplots(nrows=2, ncols=2, figsize=(7, 5))\n",
    "\n",
    "plt.subplots_adjust(left=0.20, bottom=0.2, right=0.9, top=0.9, hspace=0.5, wspace=0.5)\n",
    "\n",
    "g = sns.lineplot(x='year', y='Flu_rate', hue='NS', data=aggNSTable, ax=axes[0, 0])\n",
    "g.legend(title='Flu', loc='center left')\n",
    "g.set_xlabel('')\n",
    "\n",
    "g = sns.lineplot(x='year', y='Vom_rate', hue='NS', data=aggNSTable, ax=axes[0, 1])\n",
    "g.legend(title='Vom')\n",
    "g.set_xlabel('')\n",
    "\n",
    "sns.lineplot(x='year', y='Diarr_rate', hue='NS', data=aggNSTable, ax=axes[1, 0]);\n",
    "sns.lineplot(x='year', y='Gastro_rate', hue='NS', data=aggNSTable, ax=axes[1, 1]);\n"
   ]
  },
  {
   "cell_type": "markdown",
   "id": "8a314db0-e4fc-4080-9fb2-c39fb1087149",
   "metadata": {},
   "source": [
    "<br>\n",
    "<br>\n",
    "\n",
    "## Influenza Data"
   ]
  },
  {
   "cell_type": "markdown",
   "id": "081ed76f-3d16-4266-afab-2629cd35d5fa",
   "metadata": {},
   "source": [
    "\n",
    "### Grouping and aggregating"
   ]
  },
  {
   "cell_type": "markdown",
   "id": "cd98dbed-6cb4-4540-b972-921812123352",
   "metadata": {},
   "source": [
    "The total populations and total influenza consultations per data"
   ]
  },
  {
   "cell_type": "code",
   "execution_count": null,
   "id": "26539e8b-6bae-4012-9e56-2fd38c27dd76",
   "metadata": {},
   "outputs": [],
   "source": [
    "flu = inhours.groupby(by='date').agg(Total=('POP', sum), Flu_OBS=('Flu_OBS', sum))"
   ]
  },
  {
   "cell_type": "markdown",
   "id": "85853457-1f4b-4f80-953d-8c201b596b6c",
   "metadata": {},
   "source": [
    "<br>\n",
    "\n",
    "### Compute rates"
   ]
  },
  {
   "cell_type": "markdown",
   "id": "7f698b57-9d52-45a0-8761-d046adf15b0f",
   "metadata": {},
   "source": [
    "The influenza consultation rate per 100,000"
   ]
  },
  {
   "cell_type": "code",
   "execution_count": null,
   "id": "876f19a2-5c3b-4969-8b2a-5f30fc0d2239",
   "metadata": {},
   "outputs": [],
   "source": [
    "flu.loc[:, 'Flu_rate'] = 100000 * np.true_divide(flu.Flu_OBS, flu.Total)"
   ]
  },
  {
   "cell_type": "markdown",
   "id": "20ad398e-38aa-4b0f-9a76-540f39628b6c",
   "metadata": {},
   "source": [
    "<br>\n",
    "\n",
    "Each date's year"
   ]
  },
  {
   "cell_type": "code",
   "execution_count": null,
   "id": "b8d95381-3f0e-4969-bd96-5f7984f9452f",
   "metadata": {},
   "outputs": [],
   "source": [
    "flu.loc[:, 'year'] = flu.index.year.values"
   ]
  },
  {
   "cell_type": "markdown",
   "id": "b9ad31d8-eb5d-4730-920a-9286cbe2454c",
   "metadata": {},
   "source": [
    "<br>\n",
    "\n",
    "Finally"
   ]
  },
  {
   "cell_type": "code",
   "execution_count": null,
   "id": "c2cb62a8-bfd7-4a41-b524-87f41f1b4f46",
   "metadata": {},
   "outputs": [],
   "source": [
    "flu"
   ]
  },
  {
   "cell_type": "markdown",
   "id": "fddec4ca-3315-44ca-9a5d-125f25c5d5e4",
   "metadata": {},
   "source": [
    "<br>\n",
    "<br>\n",
    "\n",
    "### Plot National Weekly Rates"
   ]
  },
  {
   "cell_type": "code",
   "execution_count": null,
   "id": "b0dfd0b8-5b4b-4311-9c6b-9fca2ac98cbb",
   "metadata": {},
   "outputs": [],
   "source": [
    "flu.plot(y='Flu_rate', kind='line', figsize=(4.1, 2.6), \n",
    "         xlabel='', ylabel='influenza rate', title='\\nNational Weekly Influenza Rates\\n')\n",
    "plt.xticks(rotation=90);\n",
    "plt.legend(labels=['influenza rate']).set_visible(False);"
   ]
  },
  {
   "cell_type": "markdown",
   "id": "7f97579b-a9f4-43ee-b628-1cafa3d98666",
   "metadata": {},
   "source": [
    "<br>\n",
    "<br>\n",
    "\n",
    "## Season Start Detection"
   ]
  },
  {
   "cell_type": "markdown",
   "id": "176e0115-5be4-40cf-9c52-ab258c7a130c",
   "metadata": {},
   "source": [
    "\n",
    "### Finding the minimum"
   ]
  },
  {
   "cell_type": "markdown",
   "id": "2987ebbf-8a4e-441f-8b90-374abfa55e70",
   "metadata": {},
   "source": [
    "<br>\n",
    "\n",
    "The `when_min` function, which returns the index of the minimum value of a series - the last occurrence of the minimum value."
   ]
  },
  {
   "cell_type": "code",
   "execution_count": null,
   "id": "4902d165-c33d-4709-92e3-53054bf3c02c",
   "metadata": {},
   "outputs": [],
   "source": [
    "def when_min(x: pd.Series):\n",
    "    \"\"\"\n",
    "    \n",
    "    :param x: a time series whose index is a date index\n",
    "    :return: the last occurrence of the minimum value of a series\n",
    "    \"\"\"\n",
    "    \n",
    "    return x.where(x==x.min()).last_valid_index()"
   ]
  },
  {
   "cell_type": "markdown",
   "id": "efd98084-2579-4f01-aba2-a3b7b6dccda1",
   "metadata": {},
   "source": [
    "<br>\n",
    "\n",
    "Re-ascertaining that the index is sorted in ascending order."
   ]
  },
  {
   "cell_type": "code",
   "execution_count": null,
   "id": "c550fc4d-8f25-4d44-98a8-1da0234aa439",
   "metadata": {},
   "outputs": [],
   "source": [
    "flu.sort_index(inplace = True)"
   ]
  },
  {
   "cell_type": "markdown",
   "id": "491f7b8d-898d-497c-b1c2-bed650f49a86",
   "metadata": {},
   "source": [
    "<br>\n",
    "\n",
    "Hence, the date of each year's minimum value"
   ]
  },
  {
   "cell_type": "code",
   "execution_count": null,
   "id": "b07fc2ae-0eff-489d-bd5c-b63eb9240c98",
   "metadata": {},
   "outputs": [],
   "source": [
    "minimum_value_dates = flu.groupby(by='year').agg(Flu_rate=('Flu_rate', when_min))\n",
    "minimum_value_dates"
   ]
  },
  {
   "cell_type": "markdown",
   "id": "e23735cd-bb3c-4ae9-9c4b-b92afd3e6a6e",
   "metadata": {},
   "source": [
    "<br>\n",
    "<br>\n",
    "\n",
    "### Simple Season Start Detection"
   ]
  },
  {
   "cell_type": "code",
   "execution_count": null,
   "id": "5f5cae76-fde8-4817-89a3-a235954582a2",
   "metadata": {},
   "outputs": [],
   "source": [
    "def season_start(x: pd.Series):\n",
    "    \"\"\"\n",
    "    \n",
    "    :param x: a time series whose index is a date index\n",
    "    :return: the first time a value beyond the minimum point exceeds (2 * minimum point value)\n",
    "    \"\"\"\n",
    "    \n",
    "    # the index of the minimum point of x - last occurence\n",
    "    minimum_point_index = when_min(x = x)\n",
    "    \n",
    "    # the minimum point value\n",
    "    minimum_point_value = x[minimum_point_index]\n",
    "    \n",
    "    # the values of x beyond the minim point\n",
    "    beyond_minimum_point = x.iloc[ x.index > minimum_point_index ]\n",
    "    \n",
    "    # the indices beyond the minimum point that have values > (2 * minimum point value)\n",
    "    indices = beyond_minimum_point.index[beyond_minimum_point > 2 * minimum_point_value]\n",
    "    \n",
    "    # the first time a value beyond the minimum point exceeds (2 * minimum point value)\n",
    "    return indices.min()    \n",
    "    \n",
    "    "
   ]
  },
  {
   "cell_type": "code",
   "execution_count": null,
   "id": "e82a2fad-a729-4d51-bc75-9999e922c665",
   "metadata": {},
   "outputs": [],
   "source": [
    "season_start_dates = flu.groupby(by='year').agg(Season_start=('Flu_rate', season_start))\n",
    "season_start_dates"
   ]
  }
 ],
 "metadata": {
  "kernelspec": {
   "display_name": "Python 3 (ipykernel)",
   "language": "python",
   "name": "python3"
  },
  "language_info": {
   "codemirror_mode": {
    "name": "ipython",
    "version": 3
   },
   "file_extension": ".py",
   "mimetype": "text/x-python",
   "name": "python",
   "nbconvert_exporter": "python",
   "pygments_lexer": "ipython3",
   "version": "3.7.11"
  }
 },
 "nbformat": 4,
 "nbformat_minor": 5
}
